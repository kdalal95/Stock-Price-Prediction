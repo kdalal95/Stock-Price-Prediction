{
 "cells": [
  {
   "cell_type": "markdown",
   "metadata": {},
   "source": [
    "# Strock Price prediction using LSTM"
   ]
  },
  {
   "cell_type": "raw",
   "metadata": {},
   "source": [
    "Long Short-Term Memory (LSTM) networks are a type of recurrent neural network capable of learning order dependence in sequence prediction problems"
   ]
  },
  {
   "cell_type": "code",
   "execution_count": 1,
   "metadata": {
    "scrolled": true
   },
   "outputs": [],
   "source": [
    "#!pip install pandas_datareader\n",
    "#!pip install tensorflow\n",
    "#!docker run -it -p 8888:8888 tensorflow/tensorflow:latest-jupyter\n",
    "#!pip install keras\n"
   ]
  },
  {
   "cell_type": "code",
   "execution_count": 2,
   "metadata": {},
   "outputs": [],
   "source": [
    "import pandas_datareader as pdr\n",
    "\n",
    "import pandas as pd\n",
    "import numpy as np\n",
    "import matplotlib.pyplot as plt\n",
    "\n",
    "from sklearn.preprocessing import MinMaxScaler"
   ]
  },
  {
   "cell_type": "code",
   "execution_count": 3,
   "metadata": {},
   "outputs": [],
   "source": [
    "#key= 'enter your key'"
   ]
  },
  {
   "cell_type": "code",
   "execution_count": 4,
   "metadata": {},
   "outputs": [],
   "source": [
    "#df= pdr.get_data_tiingo('AAPL', api_key= key) \n",
    "#extracting stock data from TIINGO using API"
   ]
  },
  {
   "cell_type": "code",
   "execution_count": 5,
   "metadata": {},
   "outputs": [],
   "source": [
    "#df.to_csv('AAPL.csv') #converting the exctracted the data to csv"
   ]
  },
  {
   "cell_type": "code",
   "execution_count": 6,
   "metadata": {},
   "outputs": [],
   "source": [
    "df= pd.read_csv('AAPL.csv') #reading the csv"
   ]
  },
  {
   "cell_type": "code",
   "execution_count": 7,
   "metadata": {},
   "outputs": [
    {
     "data": {
      "text/html": [
       "<div>\n",
       "<style scoped>\n",
       "    .dataframe tbody tr th:only-of-type {\n",
       "        vertical-align: middle;\n",
       "    }\n",
       "\n",
       "    .dataframe tbody tr th {\n",
       "        vertical-align: top;\n",
       "    }\n",
       "\n",
       "    .dataframe thead th {\n",
       "        text-align: right;\n",
       "    }\n",
       "</style>\n",
       "<table border=\"1\" class=\"dataframe\">\n",
       "  <thead>\n",
       "    <tr style=\"text-align: right;\">\n",
       "      <th></th>\n",
       "      <th>symbol</th>\n",
       "      <th>date</th>\n",
       "      <th>close</th>\n",
       "      <th>high</th>\n",
       "      <th>low</th>\n",
       "      <th>open</th>\n",
       "      <th>volume</th>\n",
       "      <th>adjClose</th>\n",
       "      <th>adjHigh</th>\n",
       "      <th>adjLow</th>\n",
       "      <th>adjOpen</th>\n",
       "      <th>adjVolume</th>\n",
       "      <th>divCash</th>\n",
       "      <th>splitFactor</th>\n",
       "    </tr>\n",
       "  </thead>\n",
       "  <tbody>\n",
       "    <tr>\n",
       "      <th>0</th>\n",
       "      <td>AAPL</td>\n",
       "      <td>2015-08-13 00:00:00+00:00</td>\n",
       "      <td>115.15</td>\n",
       "      <td>116.40</td>\n",
       "      <td>114.54</td>\n",
       "      <td>116.04</td>\n",
       "      <td>48535789</td>\n",
       "      <td>106.396396</td>\n",
       "      <td>107.551372</td>\n",
       "      <td>105.832768</td>\n",
       "      <td>107.218739</td>\n",
       "      <td>48535789</td>\n",
       "      <td>0.0</td>\n",
       "      <td>1.0</td>\n",
       "    </tr>\n",
       "    <tr>\n",
       "      <th>1</th>\n",
       "      <td>AAPL</td>\n",
       "      <td>2015-08-14 00:00:00+00:00</td>\n",
       "      <td>115.96</td>\n",
       "      <td>116.31</td>\n",
       "      <td>114.01</td>\n",
       "      <td>114.32</td>\n",
       "      <td>42929516</td>\n",
       "      <td>107.144821</td>\n",
       "      <td>107.468214</td>\n",
       "      <td>105.343058</td>\n",
       "      <td>105.629492</td>\n",
       "      <td>42929516</td>\n",
       "      <td>0.0</td>\n",
       "      <td>1.0</td>\n",
       "    </tr>\n",
       "    <tr>\n",
       "      <th>2</th>\n",
       "      <td>AAPL</td>\n",
       "      <td>2015-08-17 00:00:00+00:00</td>\n",
       "      <td>117.16</td>\n",
       "      <td>117.65</td>\n",
       "      <td>115.50</td>\n",
       "      <td>116.04</td>\n",
       "      <td>40884745</td>\n",
       "      <td>108.253598</td>\n",
       "      <td>108.706348</td>\n",
       "      <td>106.719789</td>\n",
       "      <td>107.218739</td>\n",
       "      <td>40884745</td>\n",
       "      <td>0.0</td>\n",
       "      <td>1.0</td>\n",
       "    </tr>\n",
       "    <tr>\n",
       "      <th>3</th>\n",
       "      <td>AAPL</td>\n",
       "      <td>2015-08-18 00:00:00+00:00</td>\n",
       "      <td>116.50</td>\n",
       "      <td>117.44</td>\n",
       "      <td>116.01</td>\n",
       "      <td>116.43</td>\n",
       "      <td>34560708</td>\n",
       "      <td>107.643770</td>\n",
       "      <td>108.512312</td>\n",
       "      <td>107.191020</td>\n",
       "      <td>107.579092</td>\n",
       "      <td>34560708</td>\n",
       "      <td>0.0</td>\n",
       "      <td>1.0</td>\n",
       "    </tr>\n",
       "    <tr>\n",
       "      <th>4</th>\n",
       "      <td>AAPL</td>\n",
       "      <td>2015-08-19 00:00:00+00:00</td>\n",
       "      <td>115.01</td>\n",
       "      <td>116.52</td>\n",
       "      <td>114.68</td>\n",
       "      <td>116.10</td>\n",
       "      <td>48286510</td>\n",
       "      <td>106.267039</td>\n",
       "      <td>107.662250</td>\n",
       "      <td>105.962125</td>\n",
       "      <td>107.274178</td>\n",
       "      <td>48286510</td>\n",
       "      <td>0.0</td>\n",
       "      <td>1.0</td>\n",
       "    </tr>\n",
       "  </tbody>\n",
       "</table>\n",
       "</div>"
      ],
      "text/plain": [
       "  symbol                       date   close    high     low    open    volume  \\\n",
       "0   AAPL  2015-08-13 00:00:00+00:00  115.15  116.40  114.54  116.04  48535789   \n",
       "1   AAPL  2015-08-14 00:00:00+00:00  115.96  116.31  114.01  114.32  42929516   \n",
       "2   AAPL  2015-08-17 00:00:00+00:00  117.16  117.65  115.50  116.04  40884745   \n",
       "3   AAPL  2015-08-18 00:00:00+00:00  116.50  117.44  116.01  116.43  34560708   \n",
       "4   AAPL  2015-08-19 00:00:00+00:00  115.01  116.52  114.68  116.10  48286510   \n",
       "\n",
       "     adjClose     adjHigh      adjLow     adjOpen  adjVolume  divCash  \\\n",
       "0  106.396396  107.551372  105.832768  107.218739   48535789      0.0   \n",
       "1  107.144821  107.468214  105.343058  105.629492   42929516      0.0   \n",
       "2  108.253598  108.706348  106.719789  107.218739   40884745      0.0   \n",
       "3  107.643770  108.512312  107.191020  107.579092   34560708      0.0   \n",
       "4  106.267039  107.662250  105.962125  107.274178   48286510      0.0   \n",
       "\n",
       "   splitFactor  \n",
       "0          1.0  \n",
       "1          1.0  \n",
       "2          1.0  \n",
       "3          1.0  \n",
       "4          1.0  "
      ]
     },
     "execution_count": 7,
     "metadata": {},
     "output_type": "execute_result"
    }
   ],
   "source": [
    "df.head()"
   ]
  },
  {
   "cell_type": "code",
   "execution_count": 8,
   "metadata": {},
   "outputs": [
    {
     "data": {
      "text/html": [
       "<div>\n",
       "<style scoped>\n",
       "    .dataframe tbody tr th:only-of-type {\n",
       "        vertical-align: middle;\n",
       "    }\n",
       "\n",
       "    .dataframe tbody tr th {\n",
       "        vertical-align: top;\n",
       "    }\n",
       "\n",
       "    .dataframe thead th {\n",
       "        text-align: right;\n",
       "    }\n",
       "</style>\n",
       "<table border=\"1\" class=\"dataframe\">\n",
       "  <thead>\n",
       "    <tr style=\"text-align: right;\">\n",
       "      <th></th>\n",
       "      <th>symbol</th>\n",
       "      <th>date</th>\n",
       "      <th>close</th>\n",
       "      <th>high</th>\n",
       "      <th>low</th>\n",
       "      <th>open</th>\n",
       "      <th>volume</th>\n",
       "      <th>adjClose</th>\n",
       "      <th>adjHigh</th>\n",
       "      <th>adjLow</th>\n",
       "      <th>adjOpen</th>\n",
       "      <th>adjVolume</th>\n",
       "      <th>divCash</th>\n",
       "      <th>splitFactor</th>\n",
       "    </tr>\n",
       "  </thead>\n",
       "  <tbody>\n",
       "    <tr>\n",
       "      <th>1252</th>\n",
       "      <td>AAPL</td>\n",
       "      <td>2020-08-04 00:00:00+00:00</td>\n",
       "      <td>438.66</td>\n",
       "      <td>443.16</td>\n",
       "      <td>433.55</td>\n",
       "      <td>436.53</td>\n",
       "      <td>43198092</td>\n",
       "      <td>437.852173</td>\n",
       "      <td>442.343886</td>\n",
       "      <td>432.751583</td>\n",
       "      <td>435.726095</td>\n",
       "      <td>43198092</td>\n",
       "      <td>0.00</td>\n",
       "      <td>1.0</td>\n",
       "    </tr>\n",
       "    <tr>\n",
       "      <th>1253</th>\n",
       "      <td>AAPL</td>\n",
       "      <td>2020-08-05 00:00:00+00:00</td>\n",
       "      <td>440.25</td>\n",
       "      <td>441.57</td>\n",
       "      <td>435.59</td>\n",
       "      <td>437.51</td>\n",
       "      <td>30497988</td>\n",
       "      <td>439.439245</td>\n",
       "      <td>440.756814</td>\n",
       "      <td>434.787826</td>\n",
       "      <td>436.704291</td>\n",
       "      <td>30497988</td>\n",
       "      <td>0.00</td>\n",
       "      <td>1.0</td>\n",
       "    </tr>\n",
       "    <tr>\n",
       "      <th>1254</th>\n",
       "      <td>AAPL</td>\n",
       "      <td>2020-08-06 00:00:00+00:00</td>\n",
       "      <td>455.61</td>\n",
       "      <td>457.65</td>\n",
       "      <td>439.19</td>\n",
       "      <td>441.62</td>\n",
       "      <td>50607225</td>\n",
       "      <td>454.770958</td>\n",
       "      <td>456.807201</td>\n",
       "      <td>438.381197</td>\n",
       "      <td>440.806722</td>\n",
       "      <td>50607225</td>\n",
       "      <td>0.00</td>\n",
       "      <td>1.0</td>\n",
       "    </tr>\n",
       "    <tr>\n",
       "      <th>1255</th>\n",
       "      <td>AAPL</td>\n",
       "      <td>2020-08-07 00:00:00+00:00</td>\n",
       "      <td>444.45</td>\n",
       "      <td>454.70</td>\n",
       "      <td>441.17</td>\n",
       "      <td>452.82</td>\n",
       "      <td>49511403</td>\n",
       "      <td>444.450000</td>\n",
       "      <td>454.700000</td>\n",
       "      <td>441.170000</td>\n",
       "      <td>452.820000</td>\n",
       "      <td>49511403</td>\n",
       "      <td>0.82</td>\n",
       "      <td>1.0</td>\n",
       "    </tr>\n",
       "    <tr>\n",
       "      <th>1256</th>\n",
       "      <td>AAPL</td>\n",
       "      <td>2020-08-10 00:00:00+00:00</td>\n",
       "      <td>450.91</td>\n",
       "      <td>455.10</td>\n",
       "      <td>440.00</td>\n",
       "      <td>450.40</td>\n",
       "      <td>53100856</td>\n",
       "      <td>450.910000</td>\n",
       "      <td>455.100000</td>\n",
       "      <td>440.000000</td>\n",
       "      <td>450.400000</td>\n",
       "      <td>53100856</td>\n",
       "      <td>0.00</td>\n",
       "      <td>1.0</td>\n",
       "    </tr>\n",
       "  </tbody>\n",
       "</table>\n",
       "</div>"
      ],
      "text/plain": [
       "     symbol                       date   close    high     low    open  \\\n",
       "1252   AAPL  2020-08-04 00:00:00+00:00  438.66  443.16  433.55  436.53   \n",
       "1253   AAPL  2020-08-05 00:00:00+00:00  440.25  441.57  435.59  437.51   \n",
       "1254   AAPL  2020-08-06 00:00:00+00:00  455.61  457.65  439.19  441.62   \n",
       "1255   AAPL  2020-08-07 00:00:00+00:00  444.45  454.70  441.17  452.82   \n",
       "1256   AAPL  2020-08-10 00:00:00+00:00  450.91  455.10  440.00  450.40   \n",
       "\n",
       "        volume    adjClose     adjHigh      adjLow     adjOpen  adjVolume  \\\n",
       "1252  43198092  437.852173  442.343886  432.751583  435.726095   43198092   \n",
       "1253  30497988  439.439245  440.756814  434.787826  436.704291   30497988   \n",
       "1254  50607225  454.770958  456.807201  438.381197  440.806722   50607225   \n",
       "1255  49511403  444.450000  454.700000  441.170000  452.820000   49511403   \n",
       "1256  53100856  450.910000  455.100000  440.000000  450.400000   53100856   \n",
       "\n",
       "      divCash  splitFactor  \n",
       "1252     0.00          1.0  \n",
       "1253     0.00          1.0  \n",
       "1254     0.00          1.0  \n",
       "1255     0.82          1.0  \n",
       "1256     0.00          1.0  "
      ]
     },
     "execution_count": 8,
     "metadata": {},
     "output_type": "execute_result"
    }
   ],
   "source": [
    "df.tail()"
   ]
  },
  {
   "cell_type": "code",
   "execution_count": 9,
   "metadata": {},
   "outputs": [
    {
     "data": {
      "text/plain": [
       "(1257, 14)"
      ]
     },
     "execution_count": 9,
     "metadata": {},
     "output_type": "execute_result"
    }
   ],
   "source": [
    "df.shape"
   ]
  },
  {
   "cell_type": "code",
   "execution_count": 10,
   "metadata": {},
   "outputs": [
    {
     "name": "stdout",
     "output_type": "stream",
     "text": [
      "<class 'pandas.core.frame.DataFrame'>\n",
      "RangeIndex: 1257 entries, 0 to 1256\n",
      "Data columns (total 14 columns):\n",
      " #   Column       Non-Null Count  Dtype  \n",
      "---  ------       --------------  -----  \n",
      " 0   symbol       1257 non-null   object \n",
      " 1   date         1257 non-null   object \n",
      " 2   close        1257 non-null   float64\n",
      " 3   high         1257 non-null   float64\n",
      " 4   low          1257 non-null   float64\n",
      " 5   open         1257 non-null   float64\n",
      " 6   volume       1257 non-null   int64  \n",
      " 7   adjClose     1257 non-null   float64\n",
      " 8   adjHigh      1257 non-null   float64\n",
      " 9   adjLow       1257 non-null   float64\n",
      " 10  adjOpen      1257 non-null   float64\n",
      " 11  adjVolume    1257 non-null   int64  \n",
      " 12  divCash      1257 non-null   float64\n",
      " 13  splitFactor  1257 non-null   float64\n",
      "dtypes: float64(10), int64(2), object(2)\n",
      "memory usage: 137.6+ KB\n"
     ]
    }
   ],
   "source": [
    "df.info()"
   ]
  },
  {
   "cell_type": "code",
   "execution_count": 11,
   "metadata": {},
   "outputs": [],
   "source": [
    "df1= df.reset_index()['close'] #creating a new df with only close price as we would be making prediction on close, we can do the same on open, high, low as well"
   ]
  },
  {
   "cell_type": "code",
   "execution_count": 12,
   "metadata": {},
   "outputs": [
    {
     "data": {
      "text/plain": [
       "0    115.15\n",
       "1    115.96\n",
       "2    117.16\n",
       "3    116.50\n",
       "4    115.01\n",
       "Name: close, dtype: float64"
      ]
     },
     "execution_count": 12,
     "metadata": {},
     "output_type": "execute_result"
    }
   ],
   "source": [
    "df1.head()"
   ]
  },
  {
   "cell_type": "code",
   "execution_count": 13,
   "metadata": {},
   "outputs": [
    {
     "data": {
      "text/plain": [
       "(1257,)"
      ]
     },
     "execution_count": 13,
     "metadata": {},
     "output_type": "execute_result"
    }
   ],
   "source": [
    "df1.shape"
   ]
  },
  {
   "cell_type": "code",
   "execution_count": 14,
   "metadata": {},
   "outputs": [
    {
     "data": {
      "text/plain": [
       "[<matplotlib.lines.Line2D at 0x1f6e1034e20>]"
      ]
     },
     "execution_count": 14,
     "metadata": {},
     "output_type": "execute_result"
    },
    {
     "data": {
      "image/png": "[encoded data removed]",
      "text/plain": [
       "<Figure size 432x288 with 1 Axes>"
      ]
     },
     "metadata": {
      "needs_background": "light"
     },
     "output_type": "display_data"
    }
   ],
   "source": [
    "plt.plot(df1) #plotting close price"
   ]
  },
  {
   "cell_type": "code",
   "execution_count": 15,
   "metadata": {},
   "outputs": [],
   "source": [
    "## LSTM are sensitive to the scale of the data, so we apply MinMax scaling"
   ]
  },
  {
   "cell_type": "code",
   "execution_count": 16,
   "metadata": {},
   "outputs": [],
   "source": [
    "df1 = df1.values.reshape(len(df1),1) #converting to 2d"
   ]
  },
  {
   "cell_type": "code",
   "execution_count": 17,
   "metadata": {},
   "outputs": [
    {
     "data": {
      "text/plain": [
       "array([[0.06792236],\n",
       "       [0.0701399 ],\n",
       "       [0.07342514],\n",
       "       ...,\n",
       "       [1.        ],\n",
       "       [0.96944726],\n",
       "       [0.98713281]])"
      ]
     },
     "execution_count": 17,
     "metadata": {},
     "output_type": "execute_result"
    }
   ],
   "source": [
    "scaler= MinMaxScaler() #applying the scaling to df1\n",
    "df1= scaler.fit_transform(df1)\n",
    "df1"
   ]
  },
  {
   "cell_type": "code",
   "execution_count": 18,
   "metadata": {},
   "outputs": [
    {
     "data": {
      "text/plain": [
       "(1257, 1)"
      ]
     },
     "execution_count": 18,
     "metadata": {},
     "output_type": "execute_result"
    }
   ],
   "source": [
    "df1.shape"
   ]
  },
  {
   "cell_type": "code",
   "execution_count": 19,
   "metadata": {},
   "outputs": [],
   "source": [
    "#Train test data splitting\n",
    "#our data is time series data, here day 2 can be depended on day 1 or day  5 can be depended on day 1 3 4\n",
    "#so we can say in time series data a particular day data can be depended on previous day data\n",
    "\n",
    "#so we cannot split using train_test_split or CV techniques\n",
    "\n",
    "training_size= int(len(df1)*0.65)  #here, taking 65% of data as training data\n",
    "test_size= len(df1) - training_size  #here, test size would be total data minus training data, that is the remaining 35%\n",
    "\n",
    "train_data, test_data= df1[0:training_size, :], df1[training_size:len(df1), :] #creating train and test data using the size\n"
   ]
  },
  {
   "cell_type": "code",
   "execution_count": 20,
   "metadata": {},
   "outputs": [
    {
     "data": {
      "text/plain": [
       "(817, 440)"
      ]
     },
     "execution_count": 20,
     "metadata": {},
     "output_type": "execute_result"
    }
   ],
   "source": [
    "len(train_data), len(test_data)"
   ]
  },
  {
   "cell_type": "code",
   "execution_count": 21,
   "metadata": {},
   "outputs": [],
   "source": [
    "#converting an arrey of value into dataset matrix\n",
    "\n",
    "def create_dataset(dataset, time_step=1):\n",
    "    dataX, dataY= [], []\n",
    "    for i in range(len(dataset)- time_step-1):             # 818-100-1= 717\n",
    "        a= dataset[i:(i+time_step),0]        ###i=0, 0,1,2,3--------99 100\n",
    "        dataX.append(a)\n",
    "        dataY.append(dataset[i + time_step, 0])\n",
    "        \n",
    "    return np.array(dataX), np.array(dataY)"
   ]
  },
  {
   "cell_type": "code",
   "execution_count": 22,
   "metadata": {},
   "outputs": [],
   "source": [
    "time_step= 100\n",
    "X_train, y_train= create_dataset(train_data, time_step)\n",
    "X_test, y_test= create_dataset(test_data, time_step)\n"
   ]
  },
  {
   "cell_type": "code",
   "execution_count": 23,
   "metadata": {},
   "outputs": [
    {
     "data": {
      "text/plain": [
       "((716, 100), (716,))"
      ]
     },
     "execution_count": 23,
     "metadata": {},
     "output_type": "execute_result"
    }
   ],
   "source": [
    "X_train.shape, y_train.shape"
   ]
  },
  {
   "cell_type": "code",
   "execution_count": 24,
   "metadata": {},
   "outputs": [
    {
     "data": {
      "text/plain": [
       "((339, 100), (339,))"
      ]
     },
     "execution_count": 24,
     "metadata": {},
     "output_type": "execute_result"
    }
   ],
   "source": [
    "X_test.shape, y_test.shape"
   ]
  },
  {
   "cell_type": "code",
   "execution_count": 25,
   "metadata": {},
   "outputs": [
    {
     "data": {
      "text/plain": [
       "((716, 100, 1), (339, 100, 1))"
      ]
     },
     "execution_count": 25,
     "metadata": {},
     "output_type": "execute_result"
    }
   ],
   "source": [
    "#reshape input to be 3D data which is reqd in LSTM [sample, rime step, features]\n",
    "\n",
    "X_train= X_train.reshape(X_train.shape[0], X_train.shape[1], 1)\n",
    "X_test= X_test.reshape(X_test.shape[0], X_test.shape[1], 1)\n",
    "X_train.shape, X_test.shape"
   ]
  },
  {
   "cell_type": "code",
   "execution_count": 26,
   "metadata": {},
   "outputs": [],
   "source": [
    "# Libraries reqd for creating the stack LSTM model\n",
    "from tensorflow.keras.models import Sequential\n",
    "from tensorflow.keras.layers import Dense\n",
    "from tensorflow.keras.layers import LSTM\n",
    "\n",
    "import tensorflow as tf"
   ]
  },
  {
   "cell_type": "code",
   "execution_count": 27,
   "metadata": {},
   "outputs": [],
   "source": [
    "model= Sequential()\n",
    "model.add(LSTM(50, return_sequences= True, input_shape=(100,1)))\n",
    "model.add(LSTM(50,return_sequences= True))\n",
    "model.add(LSTM(50))\n",
    "model.add(Dense(1))\n",
    "model.compile(loss='mean_squared_error', optimizer= 'adam')"
   ]
  },
  {
   "cell_type": "code",
   "execution_count": 28,
   "metadata": {},
   "outputs": [
    {
     "name": "stdout",
     "output_type": "stream",
     "text": [
      "Model: \"sequential\"\n",
      "_________________________________________________________________\n",
      "Layer (type)                 Output Shape              Param #   \n",
      "=================================================================\n",
      "lstm (LSTM)                  (None, 100, 50)           10400     \n",
      "_________________________________________________________________\n",
      "lstm_1 (LSTM)                (None, 100, 50)           20200     \n",
      "_________________________________________________________________\n",
      "lstm_2 (LSTM)                (None, 50)                20200     \n",
      "_________________________________________________________________\n",
      "dense (Dense)                (None, 1)                 51        \n",
      "=================================================================\n",
      "Total params: 50,851\n",
      "Trainable params: 50,851\n",
      "Non-trainable params: 0\n",
      "_________________________________________________________________\n"
     ]
    }
   ],
   "source": [
    "model.summary()"
   ]
  },
  {
   "cell_type": "code",
   "execution_count": 29,
   "metadata": {},
   "outputs": [
    {
     "name": "stdout",
     "output_type": "stream",
     "text": [
      "Epoch 1/100\n",
      "12/12 [==============================] - 6s 463ms/step - loss: 0.0138 - val_loss: 0.0511\n",
      "Epoch 2/100\n",
      "12/12 [==============================] - 3s 222ms/step - loss: 0.0030 - val_loss: 0.0028\n",
      "Epoch 3/100\n",
      "12/12 [==============================] - 3s 242ms/step - loss: 6.6507e-04 - val_loss: 0.0046\n",
      "Epoch 4/100\n",
      "12/12 [==============================] - 3s 243ms/step - loss: 5.3691e-04 - val_loss: 0.0031\n",
      "Epoch 5/100\n",
      "12/12 [==============================] - 3s 218ms/step - loss: 4.2747e-04 - val_loss: 0.0045\n",
      "Epoch 6/100\n",
      "12/12 [==============================] - 3s 241ms/step - loss: 3.1730e-04 - val_loss: 0.0027\n",
      "Epoch 7/100\n",
      "12/12 [==============================] - 3s 241ms/step - loss: 2.7946e-04 - val_loss: 0.0027\n",
      "Epoch 8/100\n",
      "12/12 [==============================] - 3s 227ms/step - loss: 2.8242e-04 - val_loss: 0.0027\n",
      "Epoch 9/100\n",
      "12/12 [==============================] - 3s 260ms/step - loss: 2.8592e-04 - val_loss: 0.0028\n",
      "Epoch 10/100\n",
      "12/12 [==============================] - 3s 219ms/step - loss: 2.7181e-04 - val_loss: 0.0031\n",
      "Epoch 11/100\n",
      "12/12 [==============================] - 3s 242ms/step - loss: 2.7084e-04 - val_loss: 0.0027\n",
      "Epoch 12/100\n",
      "12/12 [==============================] - 3s 263ms/step - loss: 2.7064e-04 - val_loss: 0.0029\n",
      "Epoch 13/100\n",
      "12/12 [==============================] - 3s 279ms/step - loss: 2.6858e-04 - val_loss: 0.0034\n",
      "Epoch 14/100\n",
      "12/12 [==============================] - 3s 267ms/step - loss: 2.8768e-04 - val_loss: 0.0034\n",
      "Epoch 15/100\n",
      "12/12 [==============================] - 3s 273ms/step - loss: 2.6579e-04 - val_loss: 0.0040\n",
      "Epoch 16/100\n",
      "12/12 [==============================] - 3s 255ms/step - loss: 3.0821e-04 - val_loss: 0.0050\n",
      "Epoch 17/100\n",
      "12/12 [==============================] - 3s 264ms/step - loss: 2.9295e-04 - val_loss: 0.0032\n",
      "Epoch 18/100\n",
      "12/12 [==============================] - 3s 269ms/step - loss: 2.5323e-04 - val_loss: 0.0029\n",
      "Epoch 19/100\n",
      "12/12 [==============================] - 3s 232ms/step - loss: 2.4852e-04 - val_loss: 0.0028\n",
      "Epoch 20/100\n",
      "12/12 [==============================] - 3s 269ms/step - loss: 2.3543e-04 - val_loss: 0.0029\n",
      "Epoch 21/100\n",
      "12/12 [==============================] - 3s 228ms/step - loss: 2.3435e-04 - val_loss: 0.0032\n",
      "Epoch 22/100\n",
      "12/12 [==============================] - 3s 253ms/step - loss: 2.4746e-04 - val_loss: 0.0020\n",
      "Epoch 23/100\n",
      "12/12 [==============================] - 3s 264ms/step - loss: 2.6340e-04 - val_loss: 0.0023\n",
      "Epoch 24/100\n",
      "12/12 [==============================] - 3s 228ms/step - loss: 2.4451e-04 - val_loss: 0.0029\n",
      "Epoch 25/100\n",
      "12/12 [==============================] - 3s 218ms/step - loss: 2.3376e-04 - val_loss: 0.0036\n",
      "Epoch 26/100\n",
      "12/12 [==============================] - 3s 236ms/step - loss: 2.5057e-04 - val_loss: 0.0030\n",
      "Epoch 27/100\n",
      "12/12 [==============================] - 3s 279ms/step - loss: 2.2877e-04 - val_loss: 0.0024\n",
      "Epoch 28/100\n",
      "12/12 [==============================] - 3s 273ms/step - loss: 2.1090e-04 - val_loss: 0.0026\n",
      "Epoch 29/100\n",
      "12/12 [==============================] - 3s 249ms/step - loss: 2.1509e-04 - val_loss: 0.0026\n",
      "Epoch 30/100\n",
      "12/12 [==============================] - 3s 280ms/step - loss: 2.1413e-04 - val_loss: 0.0025\n",
      "Epoch 31/100\n",
      "12/12 [==============================] - 3s 236ms/step - loss: 2.0733e-04 - val_loss: 0.0029\n",
      "Epoch 32/100\n",
      "12/12 [==============================] - 3s 244ms/step - loss: 2.0299e-04 - val_loss: 0.0018\n",
      "Epoch 33/100\n",
      "12/12 [==============================] - 3s 262ms/step - loss: 2.0169e-04 - val_loss: 0.0023\n",
      "Epoch 34/100\n",
      "12/12 [==============================] - 3s 256ms/step - loss: 2.1611e-04 - val_loss: 0.0017\n",
      "Epoch 35/100\n",
      "12/12 [==============================] - 3s 244ms/step - loss: 1.9505e-04 - val_loss: 0.0027\n",
      "Epoch 36/100\n",
      "12/12 [==============================] - 3s 225ms/step - loss: 1.9169e-04 - val_loss: 0.0025\n",
      "Epoch 37/100\n",
      "12/12 [==============================] - 3s 251ms/step - loss: 1.9041e-04 - val_loss: 0.0030\n",
      "Epoch 38/100\n",
      "12/12 [==============================] - 3s 273ms/step - loss: 1.9743e-04 - val_loss: 0.0020\n",
      "Epoch 39/100\n",
      "12/12 [==============================] - 3s 266ms/step - loss: 1.9320e-04 - val_loss: 0.0035\n",
      "Epoch 40/100\n",
      "12/12 [==============================] - 2s 156ms/step - loss: 2.3234e-04 - val_loss: 0.0015\n",
      "Epoch 41/100\n",
      "12/12 [==============================] - 2s 132ms/step - loss: 3.2146e-04 - val_loss: 0.0028\n",
      "Epoch 42/100\n",
      "12/12 [==============================] - 2s 138ms/step - loss: 2.6497e-04 - val_loss: 0.0043\n",
      "Epoch 43/100\n",
      "12/12 [==============================] - 2s 134ms/step - loss: 2.2153e-04 - val_loss: 0.0015\n",
      "Epoch 44/100\n",
      "12/12 [==============================] - 2s 133ms/step - loss: 1.9680e-04 - val_loss: 0.0017\n",
      "Epoch 45/100\n",
      "12/12 [==============================] - 2s 141ms/step - loss: 2.0211e-04 - val_loss: 0.0036\n",
      "Epoch 46/100\n",
      "12/12 [==============================] - 7s 564ms/step - loss: 2.2464e-04 - val_loss: 0.0028\n",
      "Epoch 47/100\n",
      "12/12 [==============================] - 4s 302ms/step - loss: 2.1374e-04 - val_loss: 0.0016\n",
      "Epoch 48/100\n",
      "12/12 [==============================] - 3s 268ms/step - loss: 1.7519e-04 - val_loss: 0.0020\n",
      "Epoch 49/100\n",
      "12/12 [==============================] - 3s 269ms/step - loss: 1.6720e-04 - val_loss: 0.0019\n",
      "Epoch 50/100\n",
      "12/12 [==============================] - 3s 288ms/step - loss: 1.6542e-04 - val_loss: 0.0017\n",
      "Epoch 51/100\n",
      "12/12 [==============================] - 3s 281ms/step - loss: 1.7987e-04 - val_loss: 0.0016\n",
      "Epoch 52/100\n",
      "12/12 [==============================] - 3s 277ms/step - loss: 1.7561e-04 - val_loss: 0.0022\n",
      "Epoch 53/100\n",
      "12/12 [==============================] - 4s 294ms/step - loss: 1.6606e-04 - val_loss: 0.0019\n",
      "Epoch 54/100\n",
      "12/12 [==============================] - 3s 283ms/step - loss: 1.5984e-04 - val_loss: 0.0019\n",
      "Epoch 55/100\n",
      "12/12 [==============================] - 3s 282ms/step - loss: 1.5915e-04 - val_loss: 0.0018\n",
      "Epoch 56/100\n",
      "12/12 [==============================] - 3s 291ms/step - loss: 1.5750e-04 - val_loss: 0.0018\n",
      "Epoch 57/100\n",
      "12/12 [==============================] - 3s 267ms/step - loss: 1.6450e-04 - val_loss: 0.0017\n",
      "Epoch 58/100\n",
      "12/12 [==============================] - 3s 275ms/step - loss: 1.5293e-04 - val_loss: 0.0018\n",
      "Epoch 59/100\n",
      "12/12 [==============================] - 4s 297ms/step - loss: 1.5546e-04 - val_loss: 0.0030\n",
      "Epoch 60/100\n",
      "12/12 [==============================] - 3s 273ms/step - loss: 1.7991e-04 - val_loss: 0.0015\n",
      "Epoch 61/100\n",
      "12/12 [==============================] - 3s 273ms/step - loss: 1.6424e-04 - val_loss: 0.0015\n",
      "Epoch 62/100\n",
      "12/12 [==============================] - 4s 299ms/step - loss: 1.5594e-04 - val_loss: 0.0017\n",
      "Epoch 63/100\n",
      "12/12 [==============================] - 3s 280ms/step - loss: 1.5283e-04 - val_loss: 0.0015\n",
      "Epoch 64/100\n",
      "12/12 [==============================] - 3s 267ms/step - loss: 1.4374e-04 - val_loss: 0.0022\n",
      "Epoch 65/100\n",
      "12/12 [==============================] - 3s 265ms/step - loss: 1.5366e-04 - val_loss: 0.0012\n",
      "Epoch 66/100\n",
      "12/12 [==============================] - 3s 278ms/step - loss: 1.4320e-04 - val_loss: 0.0018\n",
      "Epoch 67/100\n",
      "12/12 [==============================] - 3s 244ms/step - loss: 1.4312e-04 - val_loss: 0.0016\n",
      "Epoch 68/100\n",
      "12/12 [==============================] - 3s 270ms/step - loss: 1.6076e-04 - val_loss: 0.0015\n",
      "Epoch 69/100\n",
      "12/12 [==============================] - 3s 261ms/step - loss: 1.4224e-04 - val_loss: 0.0019\n",
      "Epoch 70/100\n",
      "12/12 [==============================] - 3s 246ms/step - loss: 1.3846e-04 - val_loss: 0.0020\n",
      "Epoch 71/100\n",
      "12/12 [==============================] - 3s 218ms/step - loss: 1.3947e-04 - val_loss: 0.0017\n",
      "Epoch 72/100\n",
      "12/12 [==============================] - 3s 226ms/step - loss: 1.3302e-04 - val_loss: 0.0014\n",
      "Epoch 73/100\n",
      "12/12 [==============================] - 3s 247ms/step - loss: 1.3104e-04 - val_loss: 0.0012\n",
      "Epoch 74/100\n",
      "12/12 [==============================] - 3s 280ms/step - loss: 1.3718e-04 - val_loss: 0.0014\n",
      "Epoch 75/100\n",
      "12/12 [==============================] - 3s 251ms/step - loss: 1.3650e-04 - val_loss: 0.0020\n",
      "Epoch 76/100\n",
      "12/12 [==============================] - 3s 256ms/step - loss: 1.3720e-04 - val_loss: 0.0014\n",
      "Epoch 77/100\n",
      "12/12 [==============================] - 3s 264ms/step - loss: 1.2905e-04 - val_loss: 0.0018\n",
      "Epoch 78/100\n",
      "12/12 [==============================] - 3s 279ms/step - loss: 1.2573e-04 - val_loss: 0.0016\n",
      "Epoch 79/100\n",
      "12/12 [==============================] - 3s 265ms/step - loss: 1.2713e-04 - val_loss: 0.0012\n",
      "Epoch 80/100\n",
      "12/12 [==============================] - 4s 329ms/step - loss: 1.3577e-04 - val_loss: 0.0022\n",
      "Epoch 81/100\n",
      "12/12 [==============================] - 4s 296ms/step - loss: 1.3252e-04 - val_loss: 0.0013\n",
      "Epoch 82/100\n",
      "12/12 [==============================] - 3s 276ms/step - loss: 1.2500e-04 - val_loss: 0.0017\n",
      "Epoch 83/100\n",
      "12/12 [==============================] - 4s 297ms/step - loss: 1.4161e-04 - val_loss: 0.0013\n",
      "Epoch 84/100\n",
      "12/12 [==============================] - 4s 300ms/step - loss: 1.2192e-04 - val_loss: 0.0015\n",
      "Epoch 85/100\n",
      "12/12 [==============================] - 3s 275ms/step - loss: 1.2607e-04 - val_loss: 0.0012\n",
      "Epoch 86/100\n",
      "12/12 [==============================] - 3s 265ms/step - loss: 1.2127e-04 - val_loss: 0.0015\n",
      "Epoch 87/100\n",
      "12/12 [==============================] - 4s 309ms/step - loss: 1.1598e-04 - val_loss: 0.0018\n",
      "Epoch 88/100\n",
      "12/12 [==============================] - 3s 287ms/step - loss: 1.3107e-04 - val_loss: 0.0014\n",
      "Epoch 89/100\n",
      "12/12 [==============================] - 3s 291ms/step - loss: 1.2467e-04 - val_loss: 0.0013\n",
      "Epoch 90/100\n",
      "12/12 [==============================] - 3s 290ms/step - loss: 1.1187e-04 - val_loss: 0.0012\n",
      "Epoch 91/100\n",
      "12/12 [==============================] - 3s 282ms/step - loss: 1.1539e-04 - val_loss: 0.0011\n",
      "Epoch 92/100\n",
      "12/12 [==============================] - 3s 250ms/step - loss: 1.1491e-04 - val_loss: 0.0013\n",
      "Epoch 93/100\n",
      "12/12 [==============================] - 3s 265ms/step - loss: 1.2284e-04 - val_loss: 0.0015\n",
      "Epoch 94/100\n",
      "12/12 [==============================] - 3s 269ms/step - loss: 1.1920e-04 - val_loss: 0.0011\n",
      "Epoch 95/100\n",
      "12/12 [==============================] - 3s 274ms/step - loss: 1.0600e-04 - val_loss: 9.2743e-04\n",
      "Epoch 96/100\n",
      "12/12 [==============================] - 3s 254ms/step - loss: 1.1051e-04 - val_loss: 0.0011\n",
      "Epoch 97/100\n",
      "12/12 [==============================] - 5s 392ms/step - loss: 1.1885e-04 - val_loss: 0.0019\n",
      "Epoch 98/100\n",
      "12/12 [==============================] - 4s 314ms/step - loss: 1.0808e-04 - val_loss: 9.3210e-04\n",
      "Epoch 99/100\n",
      "12/12 [==============================] - 4s 365ms/step - loss: 1.0774e-04 - val_loss: 8.7999e-04\n",
      "Epoch 100/100\n",
      "12/12 [==============================] - 3s 244ms/step - loss: 1.1803e-04 - val_loss: 0.0011\n"
     ]
    },
    {
     "data": {
      "text/plain": [
       "<tensorflow.python.keras.callbacks.History at 0x1f6ef848c40>"
      ]
     },
     "execution_count": 29,
     "metadata": {},
     "output_type": "execute_result"
    }
   ],
   "source": [
    "model.fit(X_train, y_train, validation_data=(X_test,y_test), epochs=100, batch_size=64, verbose= True)"
   ]
  },
  {
   "cell_type": "code",
   "execution_count": 30,
   "metadata": {},
   "outputs": [],
   "source": [
    "#prediction to check performance metrics\n",
    "\n",
    "train_pred= model.predict(X_train)\n",
    "test_pred= model.predict(X_test)"
   ]
  },
  {
   "cell_type": "code",
   "execution_count": 31,
   "metadata": {},
   "outputs": [],
   "source": [
    "#transforming back to original form\n",
    "\n",
    "train_pred= scaler.inverse_transform(train_pred)\n",
    "test_pred= scaler.inverse_transform(test_pred)"
   ]
  },
  {
   "cell_type": "code",
   "execution_count": 32,
   "metadata": {},
   "outputs": [
    {
     "data": {
      "text/plain": [
       "151.56620351850444"
      ]
     },
     "execution_count": 32,
     "metadata": {},
     "output_type": "execute_result"
    }
   ],
   "source": [
    "#RMSE for train data\n",
    "\n",
    "from sklearn.metrics import mean_squared_error\n",
    "np.sqrt(mean_squared_error(y_train, train_pred))"
   ]
  },
  {
   "cell_type": "code",
   "execution_count": 33,
   "metadata": {},
   "outputs": [
    {
     "data": {
      "text/plain": [
       "264.40950254267085"
      ]
     },
     "execution_count": 33,
     "metadata": {},
     "output_type": "execute_result"
    }
   ],
   "source": [
    "#RMSE for test data\n",
    "\n",
    "np.sqrt(mean_squared_error(y_test, test_pred))"
   ]
  },
  {
   "cell_type": "code",
   "execution_count": 34,
   "metadata": {
    "scrolled": true
   },
   "outputs": [
    {
     "data": {
      "image/png": "[encoded data removed]",
      "text/plain": [
       "<Figure size 432x288 with 1 Axes>"
      ]
     },
     "metadata": {
      "needs_background": "light"
     },
     "output_type": "display_data"
    }
   ],
   "source": [
    "#plotting actual and predicted values\n",
    "\n",
    "#shifting train prediction for plotting\n",
    "look_back=100\n",
    "train_pred_plot= np.empty_like(df1)\n",
    "train_pred_plot[:, :]= np.nan\n",
    "train_pred_plot[look_back:len(train_pred)+look_back, :] = train_pred\n",
    "\n",
    "#shift test predictions for plotting\n",
    "test_pred_plot= np.empty_like(df1)\n",
    "test_pred_plot[:, :]= np.nan\n",
    "test_pred_plot[len(train_pred)+(look_back*2)+1:len(df1)-1, :]= test_pred\n",
    "\n",
    "#plot baseline and predictions\n",
    "plt.plot(scaler.inverse_transform(df1))\n",
    "plt.plot(train_pred_plot)\n",
    "plt.plot(test_pred_plot)\n",
    "plt.show()"
   ]
  },
  {
   "cell_type": "code",
   "execution_count": 35,
   "metadata": {},
   "outputs": [
    {
     "data": {
      "text/plain": [
       "(1, 100)"
      ]
     },
     "execution_count": 35,
     "metadata": {},
     "output_type": "execute_result"
    }
   ],
   "source": [
    "temp_input= test_data[340:].reshape(1,-1) \n",
    "temp_input.shape"
   ]
  },
  {
   "cell_type": "code",
   "execution_count": 36,
   "metadata": {},
   "outputs": [
    {
     "name": "stdout",
     "output_type": "stream",
     "text": [
      "day 1 input [0.4228105237221782, 0.3802666520655954, 0.3669340487858297, 0.42855969556766227, 0.42483642237249164, 0.46020751772661317, 0.43091411832343207, 0.45026966353656206, 0.44884605907958497, 0.4122156213212145, 0.42322117885399846, 0.4135844717606154, 0.47124045226818534, 0.4629178415966272, 0.48109617543187233, 0.48635256111917213, 0.5007528677416706, 0.538533139869138, 0.5313603635666767, 0.5375475675527692, 0.5268979111342296, 0.5108276069756619, 0.48739288745311693, 0.5085553152462563, 0.505625975305938, 0.5273633202836259, 0.5279108604593863, 0.515344813425685, 0.5403947764667233, 0.5570126208010513, 0.5440632956443179, 0.5552604922386181, 0.5673063761053467, 0.5757111178032689, 0.584225367536343, 0.6017192761518877, 0.6150792564404414, 0.6052235332767543, 0.5949297779724587, 0.6001040326333946, 0.5950940400251868, 0.6149423713965012, 0.6099597557970816, 0.6266323541489858, 0.6201166260574371, 0.6257015358501931, 0.6197881019519809, 0.6235661291647275, 0.6239494072877598, 0.6231007200153311, 0.6338051304514469, 0.6378843047608618, 0.6427574123251294, 0.6350918498644839, 0.660223943931886, 0.6655898376543379, 0.6944178279081228, 0.7186464806855203, 0.6722698277986147, 0.6802091603471405, 0.6916801270293208, 0.7165658280176308, 0.7152243545870178, 0.7156076327100502, 0.7101048539436582, 0.7351548169846963, 0.7561256057163195, 0.7384126810304706, 0.7514988912311441, 0.7208092643797739, 0.74312152654201, 0.7513893831959921, 0.7495003695896187, 0.7495003695896187, 0.7761655761491499, 0.7729898431297397, 0.7967530867577408, 0.801242916198976, 0.8030771757877735, 0.7982314452322941, 0.8155337147863226, 0.8228433761327236, 0.8096750349056863, 0.8075396282202207, 0.8297697593560929, 0.8149040435841981, 0.8178881375420921, 0.7694034549785091, 0.7668847701700112, 0.7909217838858926, 0.7738659074109564, 0.7934404686943906, 0.8060338927368795, 0.9163084841350235, 0.9456292605469927, 0.9535959701043064, 0.9579489145016016, 1.0, 0.9694472581925699, 0.9871328058696307, 0.923912525177002]\n",
      "prediction for day 1 [[0.9239125]]\n",
      "======================================================\n",
      "day 2 input [0.3802666520655954, 0.3669340487858297, 0.42855969556766227, 0.42483642237249164, 0.46020751772661317, 0.43091411832343207, 0.45026966353656206, 0.44884605907958497, 0.4122156213212145, 0.42322117885399846, 0.4135844717606154, 0.47124045226818534, 0.4629178415966272, 0.48109617543187233, 0.48635256111917213, 0.5007528677416706, 0.538533139869138, 0.5313603635666767, 0.5375475675527692, 0.5268979111342296, 0.5108276069756619, 0.48739288745311693, 0.5085553152462563, 0.505625975305938, 0.5273633202836259, 0.5279108604593863, 0.515344813425685, 0.5403947764667233, 0.5570126208010513, 0.5440632956443179, 0.5552604922386181, 0.5673063761053467, 0.5757111178032689, 0.584225367536343, 0.6017192761518877, 0.6150792564404414, 0.6052235332767543, 0.5949297779724587, 0.6001040326333946, 0.5950940400251868, 0.6149423713965012, 0.6099597557970816, 0.6266323541489858, 0.6201166260574371, 0.6257015358501931, 0.6197881019519809, 0.6235661291647275, 0.6239494072877598, 0.6231007200153311, 0.6338051304514469, 0.6378843047608618, 0.6427574123251294, 0.6350918498644839, 0.660223943931886, 0.6655898376543379, 0.6944178279081228, 0.7186464806855203, 0.6722698277986147, 0.6802091603471405, 0.6916801270293208, 0.7165658280176308, 0.7152243545870178, 0.7156076327100502, 0.7101048539436582, 0.7351548169846963, 0.7561256057163195, 0.7384126810304706, 0.7514988912311441, 0.7208092643797739, 0.74312152654201, 0.7513893831959921, 0.7495003695896187, 0.7495003695896187, 0.7761655761491499, 0.7729898431297397, 0.7967530867577408, 0.801242916198976, 0.8030771757877735, 0.7982314452322941, 0.8155337147863226, 0.8228433761327236, 0.8096750349056863, 0.8075396282202207, 0.8297697593560929, 0.8149040435841981, 0.8178881375420921, 0.7694034549785091, 0.7668847701700112, 0.7909217838858926, 0.7738659074109564, 0.7934404686943906, 0.8060338927368795, 0.9163084841350235, 0.9456292605469927, 0.9535959701043064, 0.9579489145016016, 1.0, 0.9694472581925699, 0.9871328058696307, 0.923912525177002, 0.9161018133163452]\n",
      "prediction for day 2 [[0.9161018]]\n",
      "======================================================\n",
      "day 3 input [0.3669340487858297, 0.42855969556766227, 0.42483642237249164, 0.46020751772661317, 0.43091411832343207, 0.45026966353656206, 0.44884605907958497, 0.4122156213212145, 0.42322117885399846, 0.4135844717606154, 0.47124045226818534, 0.4629178415966272, 0.48109617543187233, 0.48635256111917213, 0.5007528677416706, 0.538533139869138, 0.5313603635666767, 0.5375475675527692, 0.5268979111342296, 0.5108276069756619, 0.48739288745311693, 0.5085553152462563, 0.505625975305938, 0.5273633202836259, 0.5279108604593863, 0.515344813425685, 0.5403947764667233, 0.5570126208010513, 0.5440632956443179, 0.5552604922386181, 0.5673063761053467, 0.5757111178032689, 0.584225367536343, 0.6017192761518877, 0.6150792564404414, 0.6052235332767543, 0.5949297779724587, 0.6001040326333946, 0.5950940400251868, 0.6149423713965012, 0.6099597557970816, 0.6266323541489858, 0.6201166260574371, 0.6257015358501931, 0.6197881019519809, 0.6235661291647275, 0.6239494072877598, 0.6231007200153311, 0.6338051304514469, 0.6378843047608618, 0.6427574123251294, 0.6350918498644839, 0.660223943931886, 0.6655898376543379, 0.6944178279081228, 0.7186464806855203, 0.6722698277986147, 0.6802091603471405, 0.6916801270293208, 0.7165658280176308, 0.7152243545870178, 0.7156076327100502, 0.7101048539436582, 0.7351548169846963, 0.7561256057163195, 0.7384126810304706, 0.7514988912311441, 0.7208092643797739, 0.74312152654201, 0.7513893831959921, 0.7495003695896187, 0.7495003695896187, 0.7761655761491499, 0.7729898431297397, 0.7967530867577408, 0.801242916198976, 0.8030771757877735, 0.7982314452322941, 0.8155337147863226, 0.8228433761327236, 0.8096750349056863, 0.8075396282202207, 0.8297697593560929, 0.8149040435841981, 0.8178881375420921, 0.7694034549785091, 0.7668847701700112, 0.7909217838858926, 0.7738659074109564, 0.7934404686943906, 0.8060338927368795, 0.9163084841350235, 0.9456292605469927, 0.9535959701043064, 0.9579489145016016, 1.0, 0.9694472581925699, 0.9871328058696307, 0.923912525177002, 0.9161018133163452, 0.8992221355438232]\n",
      "prediction for day 3 [[0.89922214]]\n",
      "======================================================\n",
      "day 4 input [0.42855969556766227, 0.42483642237249164, 0.46020751772661317, 0.43091411832343207, 0.45026966353656206, 0.44884605907958497, 0.4122156213212145, 0.42322117885399846, 0.4135844717606154, 0.47124045226818534, 0.4629178415966272, 0.48109617543187233, 0.48635256111917213, 0.5007528677416706, 0.538533139869138, 0.5313603635666767, 0.5375475675527692, 0.5268979111342296, 0.5108276069756619, 0.48739288745311693, 0.5085553152462563, 0.505625975305938, 0.5273633202836259, 0.5279108604593863, 0.515344813425685, 0.5403947764667233, 0.5570126208010513, 0.5440632956443179, 0.5552604922386181, 0.5673063761053467, 0.5757111178032689, 0.584225367536343, 0.6017192761518877, 0.6150792564404414, 0.6052235332767543, 0.5949297779724587, 0.6001040326333946, 0.5950940400251868, 0.6149423713965012, 0.6099597557970816, 0.6266323541489858, 0.6201166260574371, 0.6257015358501931, 0.6197881019519809, 0.6235661291647275, 0.6239494072877598, 0.6231007200153311, 0.6338051304514469, 0.6378843047608618, 0.6427574123251294, 0.6350918498644839, 0.660223943931886, 0.6655898376543379, 0.6944178279081228, 0.7186464806855203, 0.6722698277986147, 0.6802091603471405, 0.6916801270293208, 0.7165658280176308, 0.7152243545870178, 0.7156076327100502, 0.7101048539436582, 0.7351548169846963, 0.7561256057163195, 0.7384126810304706, 0.7514988912311441, 0.7208092643797739, 0.74312152654201, 0.7513893831959921, 0.7495003695896187, 0.7495003695896187, 0.7761655761491499, 0.7729898431297397, 0.7967530867577408, 0.801242916198976, 0.8030771757877735, 0.7982314452322941, 0.8155337147863226, 0.8228433761327236, 0.8096750349056863, 0.8075396282202207, 0.8297697593560929, 0.8149040435841981, 0.8178881375420921, 0.7694034549785091, 0.7668847701700112, 0.7909217838858926, 0.7738659074109564, 0.7934404686943906, 0.8060338927368795, 0.9163084841350235, 0.9456292605469927, 0.9535959701043064, 0.9579489145016016, 1.0, 0.9694472581925699, 0.9871328058696307, 0.923912525177002, 0.9161018133163452, 0.8992221355438232, 0.8781681060791016]\n",
      "prediction for day 4 [[0.8781681]]\n",
      "======================================================\n",
      "day 5 input [0.42483642237249164, 0.46020751772661317, 0.43091411832343207, 0.45026966353656206, 0.44884605907958497, 0.4122156213212145, 0.42322117885399846, 0.4135844717606154, 0.47124045226818534, 0.4629178415966272, 0.48109617543187233, 0.48635256111917213, 0.5007528677416706, 0.538533139869138, 0.5313603635666767, 0.5375475675527692, 0.5268979111342296, 0.5108276069756619, 0.48739288745311693, 0.5085553152462563, 0.505625975305938, 0.5273633202836259, 0.5279108604593863, 0.515344813425685, 0.5403947764667233, 0.5570126208010513, 0.5440632956443179, 0.5552604922386181, 0.5673063761053467, 0.5757111178032689, 0.584225367536343, 0.6017192761518877, 0.6150792564404414, 0.6052235332767543, 0.5949297779724587, 0.6001040326333946, 0.5950940400251868, 0.6149423713965012, 0.6099597557970816, 0.6266323541489858, 0.6201166260574371, 0.6257015358501931, 0.6197881019519809, 0.6235661291647275, 0.6239494072877598, 0.6231007200153311, 0.6338051304514469, 0.6378843047608618, 0.6427574123251294, 0.6350918498644839, 0.660223943931886, 0.6655898376543379, 0.6944178279081228, 0.7186464806855203, 0.6722698277986147, 0.6802091603471405, 0.6916801270293208, 0.7165658280176308, 0.7152243545870178, 0.7156076327100502, 0.7101048539436582, 0.7351548169846963, 0.7561256057163195, 0.7384126810304706, 0.7514988912311441, 0.7208092643797739, 0.74312152654201, 0.7513893831959921, 0.7495003695896187, 0.7495003695896187, 0.7761655761491499, 0.7729898431297397, 0.7967530867577408, 0.801242916198976, 0.8030771757877735, 0.7982314452322941, 0.8155337147863226, 0.8228433761327236, 0.8096750349056863, 0.8075396282202207, 0.8297697593560929, 0.8149040435841981, 0.8178881375420921, 0.7694034549785091, 0.7668847701700112, 0.7909217838858926, 0.7738659074109564, 0.7934404686943906, 0.8060338927368795, 0.9163084841350235, 0.9456292605469927, 0.9535959701043064, 0.9579489145016016, 1.0, 0.9694472581925699, 0.9871328058696307, 0.923912525177002, 0.9161018133163452, 0.8992221355438232, 0.8781681060791016, 0.8560314774513245]\n",
      "prediction for day 5 [[0.8560315]]\n",
      "======================================================\n",
      "day 6 input [0.46020751772661317, 0.43091411832343207, 0.45026966353656206, 0.44884605907958497, 0.4122156213212145, 0.42322117885399846, 0.4135844717606154, 0.47124045226818534, 0.4629178415966272, 0.48109617543187233, 0.48635256111917213, 0.5007528677416706, 0.538533139869138, 0.5313603635666767, 0.5375475675527692, 0.5268979111342296, 0.5108276069756619, 0.48739288745311693, 0.5085553152462563, 0.505625975305938, 0.5273633202836259, 0.5279108604593863, 0.515344813425685, 0.5403947764667233, 0.5570126208010513, 0.5440632956443179, 0.5552604922386181, 0.5673063761053467, 0.5757111178032689, 0.584225367536343, 0.6017192761518877, 0.6150792564404414, 0.6052235332767543, 0.5949297779724587, 0.6001040326333946, 0.5950940400251868, 0.6149423713965012, 0.6099597557970816, 0.6266323541489858, 0.6201166260574371, 0.6257015358501931, 0.6197881019519809, 0.6235661291647275, 0.6239494072877598, 0.6231007200153311, 0.6338051304514469, 0.6378843047608618, 0.6427574123251294, 0.6350918498644839, 0.660223943931886, 0.6655898376543379, 0.6944178279081228, 0.7186464806855203, 0.6722698277986147, 0.6802091603471405, 0.6916801270293208, 0.7165658280176308, 0.7152243545870178, 0.7156076327100502, 0.7101048539436582, 0.7351548169846963, 0.7561256057163195, 0.7384126810304706, 0.7514988912311441, 0.7208092643797739, 0.74312152654201, 0.7513893831959921, 0.7495003695896187, 0.7495003695896187, 0.7761655761491499, 0.7729898431297397, 0.7967530867577408, 0.801242916198976, 0.8030771757877735, 0.7982314452322941, 0.8155337147863226, 0.8228433761327236, 0.8096750349056863, 0.8075396282202207, 0.8297697593560929, 0.8149040435841981, 0.8178881375420921, 0.7694034549785091, 0.7668847701700112, 0.7909217838858926, 0.7738659074109564, 0.7934404686943906, 0.8060338927368795, 0.9163084841350235, 0.9456292605469927, 0.9535959701043064, 0.9579489145016016, 1.0, 0.9694472581925699, 0.9871328058696307, 0.923912525177002, 0.9161018133163452, 0.8992221355438232, 0.8781681060791016, 0.8560314774513245, 0.8344151377677917]\n",
      "prediction for day 6 [[0.83441514]]\n",
      "======================================================\n",
      "day 7 input [0.43091411832343207, 0.45026966353656206, 0.44884605907958497, 0.4122156213212145, 0.42322117885399846, 0.4135844717606154, 0.47124045226818534, 0.4629178415966272, 0.48109617543187233, 0.48635256111917213, 0.5007528677416706, 0.538533139869138, 0.5313603635666767, 0.5375475675527692, 0.5268979111342296, 0.5108276069756619, 0.48739288745311693, 0.5085553152462563, 0.505625975305938, 0.5273633202836259, 0.5279108604593863, 0.515344813425685, 0.5403947764667233, 0.5570126208010513, 0.5440632956443179, 0.5552604922386181, 0.5673063761053467, 0.5757111178032689, 0.584225367536343, 0.6017192761518877, 0.6150792564404414, 0.6052235332767543, 0.5949297779724587, 0.6001040326333946, 0.5950940400251868, 0.6149423713965012, 0.6099597557970816, 0.6266323541489858, 0.6201166260574371, 0.6257015358501931, 0.6197881019519809, 0.6235661291647275, 0.6239494072877598, 0.6231007200153311, 0.6338051304514469, 0.6378843047608618, 0.6427574123251294, 0.6350918498644839, 0.660223943931886, 0.6655898376543379, 0.6944178279081228, 0.7186464806855203, 0.6722698277986147, 0.6802091603471405, 0.6916801270293208, 0.7165658280176308, 0.7152243545870178, 0.7156076327100502, 0.7101048539436582, 0.7351548169846963, 0.7561256057163195, 0.7384126810304706, 0.7514988912311441, 0.7208092643797739, 0.74312152654201, 0.7513893831959921, 0.7495003695896187, 0.7495003695896187, 0.7761655761491499, 0.7729898431297397, 0.7967530867577408, 0.801242916198976, 0.8030771757877735, 0.7982314452322941, 0.8155337147863226, 0.8228433761327236, 0.8096750349056863, 0.8075396282202207, 0.8297697593560929, 0.8149040435841981, 0.8178881375420921, 0.7694034549785091, 0.7668847701700112, 0.7909217838858926, 0.7738659074109564, 0.7934404686943906, 0.8060338927368795, 0.9163084841350235, 0.9456292605469927, 0.9535959701043064, 0.9579489145016016, 1.0, 0.9694472581925699, 0.9871328058696307, 0.923912525177002, 0.9161018133163452, 0.8992221355438232, 0.8781681060791016, 0.8560314774513245, 0.8344151377677917, 0.8140490055084229]\n",
      "prediction for day 7 [[0.814049]]\n",
      "======================================================\n",
      "day 8 input [0.45026966353656206, 0.44884605907958497, 0.4122156213212145, 0.42322117885399846, 0.4135844717606154, 0.47124045226818534, 0.4629178415966272, 0.48109617543187233, 0.48635256111917213, 0.5007528677416706, 0.538533139869138, 0.5313603635666767, 0.5375475675527692, 0.5268979111342296, 0.5108276069756619, 0.48739288745311693, 0.5085553152462563, 0.505625975305938, 0.5273633202836259, 0.5279108604593863, 0.515344813425685, 0.5403947764667233, 0.5570126208010513, 0.5440632956443179, 0.5552604922386181, 0.5673063761053467, 0.5757111178032689, 0.584225367536343, 0.6017192761518877, 0.6150792564404414, 0.6052235332767543, 0.5949297779724587, 0.6001040326333946, 0.5950940400251868, 0.6149423713965012, 0.6099597557970816, 0.6266323541489858, 0.6201166260574371, 0.6257015358501931, 0.6197881019519809, 0.6235661291647275, 0.6239494072877598, 0.6231007200153311, 0.6338051304514469, 0.6378843047608618, 0.6427574123251294, 0.6350918498644839, 0.660223943931886, 0.6655898376543379, 0.6944178279081228, 0.7186464806855203, 0.6722698277986147, 0.6802091603471405, 0.6916801270293208, 0.7165658280176308, 0.7152243545870178, 0.7156076327100502, 0.7101048539436582, 0.7351548169846963, 0.7561256057163195, 0.7384126810304706, 0.7514988912311441, 0.7208092643797739, 0.74312152654201, 0.7513893831959921, 0.7495003695896187, 0.7495003695896187, 0.7761655761491499, 0.7729898431297397, 0.7967530867577408, 0.801242916198976, 0.8030771757877735, 0.7982314452322941, 0.8155337147863226, 0.8228433761327236, 0.8096750349056863, 0.8075396282202207, 0.8297697593560929, 0.8149040435841981, 0.8178881375420921, 0.7694034549785091, 0.7668847701700112, 0.7909217838858926, 0.7738659074109564, 0.7934404686943906, 0.8060338927368795, 0.9163084841350235, 0.9456292605469927, 0.9535959701043064, 0.9579489145016016, 1.0, 0.9694472581925699, 0.9871328058696307, 0.923912525177002, 0.9161018133163452, 0.8992221355438232, 0.8781681060791016, 0.8560314774513245, 0.8344151377677917, 0.8140490055084229, 0.7952375411987305]\n",
      "prediction for day 8 [[0.79523754]]\n",
      "======================================================\n"
     ]
    },
    {
     "name": "stdout",
     "output_type": "stream",
     "text": [
      "day 9 input [0.44884605907958497, 0.4122156213212145, 0.42322117885399846, 0.4135844717606154, 0.47124045226818534, 0.4629178415966272, 0.48109617543187233, 0.48635256111917213, 0.5007528677416706, 0.538533139869138, 0.5313603635666767, 0.5375475675527692, 0.5268979111342296, 0.5108276069756619, 0.48739288745311693, 0.5085553152462563, 0.505625975305938, 0.5273633202836259, 0.5279108604593863, 0.515344813425685, 0.5403947764667233, 0.5570126208010513, 0.5440632956443179, 0.5552604922386181, 0.5673063761053467, 0.5757111178032689, 0.584225367536343, 0.6017192761518877, 0.6150792564404414, 0.6052235332767543, 0.5949297779724587, 0.6001040326333946, 0.5950940400251868, 0.6149423713965012, 0.6099597557970816, 0.6266323541489858, 0.6201166260574371, 0.6257015358501931, 0.6197881019519809, 0.6235661291647275, 0.6239494072877598, 0.6231007200153311, 0.6338051304514469, 0.6378843047608618, 0.6427574123251294, 0.6350918498644839, 0.660223943931886, 0.6655898376543379, 0.6944178279081228, 0.7186464806855203, 0.6722698277986147, 0.6802091603471405, 0.6916801270293208, 0.7165658280176308, 0.7152243545870178, 0.7156076327100502, 0.7101048539436582, 0.7351548169846963, 0.7561256057163195, 0.7384126810304706, 0.7514988912311441, 0.7208092643797739, 0.74312152654201, 0.7513893831959921, 0.7495003695896187, 0.7495003695896187, 0.7761655761491499, 0.7729898431297397, 0.7967530867577408, 0.801242916198976, 0.8030771757877735, 0.7982314452322941, 0.8155337147863226, 0.8228433761327236, 0.8096750349056863, 0.8075396282202207, 0.8297697593560929, 0.8149040435841981, 0.8178881375420921, 0.7694034549785091, 0.7668847701700112, 0.7909217838858926, 0.7738659074109564, 0.7934404686943906, 0.8060338927368795, 0.9163084841350235, 0.9456292605469927, 0.9535959701043064, 0.9579489145016016, 1.0, 0.9694472581925699, 0.9871328058696307, 0.923912525177002, 0.9161018133163452, 0.8992221355438232, 0.8781681060791016, 0.8560314774513245, 0.8344151377677917, 0.8140490055084229, 0.7952375411987305, 0.7781002521514893]\n",
      "prediction for day 9 [[0.77810025]]\n",
      "======================================================\n",
      "day 10 input [0.4122156213212145, 0.42322117885399846, 0.4135844717606154, 0.47124045226818534, 0.4629178415966272, 0.48109617543187233, 0.48635256111917213, 0.5007528677416706, 0.538533139869138, 0.5313603635666767, 0.5375475675527692, 0.5268979111342296, 0.5108276069756619, 0.48739288745311693, 0.5085553152462563, 0.505625975305938, 0.5273633202836259, 0.5279108604593863, 0.515344813425685, 0.5403947764667233, 0.5570126208010513, 0.5440632956443179, 0.5552604922386181, 0.5673063761053467, 0.5757111178032689, 0.584225367536343, 0.6017192761518877, 0.6150792564404414, 0.6052235332767543, 0.5949297779724587, 0.6001040326333946, 0.5950940400251868, 0.6149423713965012, 0.6099597557970816, 0.6266323541489858, 0.6201166260574371, 0.6257015358501931, 0.6197881019519809, 0.6235661291647275, 0.6239494072877598, 0.6231007200153311, 0.6338051304514469, 0.6378843047608618, 0.6427574123251294, 0.6350918498644839, 0.660223943931886, 0.6655898376543379, 0.6944178279081228, 0.7186464806855203, 0.6722698277986147, 0.6802091603471405, 0.6916801270293208, 0.7165658280176308, 0.7152243545870178, 0.7156076327100502, 0.7101048539436582, 0.7351548169846963, 0.7561256057163195, 0.7384126810304706, 0.7514988912311441, 0.7208092643797739, 0.74312152654201, 0.7513893831959921, 0.7495003695896187, 0.7495003695896187, 0.7761655761491499, 0.7729898431297397, 0.7967530867577408, 0.801242916198976, 0.8030771757877735, 0.7982314452322941, 0.8155337147863226, 0.8228433761327236, 0.8096750349056863, 0.8075396282202207, 0.8297697593560929, 0.8149040435841981, 0.8178881375420921, 0.7694034549785091, 0.7668847701700112, 0.7909217838858926, 0.7738659074109564, 0.7934404686943906, 0.8060338927368795, 0.9163084841350235, 0.9456292605469927, 0.9535959701043064, 0.9579489145016016, 1.0, 0.9694472581925699, 0.9871328058696307, 0.923912525177002, 0.9161018133163452, 0.8992221355438232, 0.8781681060791016, 0.8560314774513245, 0.8344151377677917, 0.8140490055084229, 0.7952375411987305, 0.7781002521514893, 0.762674868106842]\n",
      "prediction for day 10 [[0.76267487]]\n",
      "======================================================\n",
      "day 11 input [0.42322117885399846, 0.4135844717606154, 0.47124045226818534, 0.4629178415966272, 0.48109617543187233, 0.48635256111917213, 0.5007528677416706, 0.538533139869138, 0.5313603635666767, 0.5375475675527692, 0.5268979111342296, 0.5108276069756619, 0.48739288745311693, 0.5085553152462563, 0.505625975305938, 0.5273633202836259, 0.5279108604593863, 0.515344813425685, 0.5403947764667233, 0.5570126208010513, 0.5440632956443179, 0.5552604922386181, 0.5673063761053467, 0.5757111178032689, 0.584225367536343, 0.6017192761518877, 0.6150792564404414, 0.6052235332767543, 0.5949297779724587, 0.6001040326333946, 0.5950940400251868, 0.6149423713965012, 0.6099597557970816, 0.6266323541489858, 0.6201166260574371, 0.6257015358501931, 0.6197881019519809, 0.6235661291647275, 0.6239494072877598, 0.6231007200153311, 0.6338051304514469, 0.6378843047608618, 0.6427574123251294, 0.6350918498644839, 0.660223943931886, 0.6655898376543379, 0.6944178279081228, 0.7186464806855203, 0.6722698277986147, 0.6802091603471405, 0.6916801270293208, 0.7165658280176308, 0.7152243545870178, 0.7156076327100502, 0.7101048539436582, 0.7351548169846963, 0.7561256057163195, 0.7384126810304706, 0.7514988912311441, 0.7208092643797739, 0.74312152654201, 0.7513893831959921, 0.7495003695896187, 0.7495003695896187, 0.7761655761491499, 0.7729898431297397, 0.7967530867577408, 0.801242916198976, 0.8030771757877735, 0.7982314452322941, 0.8155337147863226, 0.8228433761327236, 0.8096750349056863, 0.8075396282202207, 0.8297697593560929, 0.8149040435841981, 0.8178881375420921, 0.7694034549785091, 0.7668847701700112, 0.7909217838858926, 0.7738659074109564, 0.7934404686943906, 0.8060338927368795, 0.9163084841350235, 0.9456292605469927, 0.9535959701043064, 0.9579489145016016, 1.0, 0.9694472581925699, 0.9871328058696307, 0.923912525177002, 0.9161018133163452, 0.8992221355438232, 0.8781681060791016, 0.8560314774513245, 0.8344151377677917, 0.8140490055084229, 0.7952375411987305, 0.7781002521514893, 0.762674868106842, 0.7489480376243591]\n",
      "prediction for day 11 [[0.74894804]]\n",
      "======================================================\n",
      "day 12 input [0.4135844717606154, 0.47124045226818534, 0.4629178415966272, 0.48109617543187233, 0.48635256111917213, 0.5007528677416706, 0.538533139869138, 0.5313603635666767, 0.5375475675527692, 0.5268979111342296, 0.5108276069756619, 0.48739288745311693, 0.5085553152462563, 0.505625975305938, 0.5273633202836259, 0.5279108604593863, 0.515344813425685, 0.5403947764667233, 0.5570126208010513, 0.5440632956443179, 0.5552604922386181, 0.5673063761053467, 0.5757111178032689, 0.584225367536343, 0.6017192761518877, 0.6150792564404414, 0.6052235332767543, 0.5949297779724587, 0.6001040326333946, 0.5950940400251868, 0.6149423713965012, 0.6099597557970816, 0.6266323541489858, 0.6201166260574371, 0.6257015358501931, 0.6197881019519809, 0.6235661291647275, 0.6239494072877598, 0.6231007200153311, 0.6338051304514469, 0.6378843047608618, 0.6427574123251294, 0.6350918498644839, 0.660223943931886, 0.6655898376543379, 0.6944178279081228, 0.7186464806855203, 0.6722698277986147, 0.6802091603471405, 0.6916801270293208, 0.7165658280176308, 0.7152243545870178, 0.7156076327100502, 0.7101048539436582, 0.7351548169846963, 0.7561256057163195, 0.7384126810304706, 0.7514988912311441, 0.7208092643797739, 0.74312152654201, 0.7513893831959921, 0.7495003695896187, 0.7495003695896187, 0.7761655761491499, 0.7729898431297397, 0.7967530867577408, 0.801242916198976, 0.8030771757877735, 0.7982314452322941, 0.8155337147863226, 0.8228433761327236, 0.8096750349056863, 0.8075396282202207, 0.8297697593560929, 0.8149040435841981, 0.8178881375420921, 0.7694034549785091, 0.7668847701700112, 0.7909217838858926, 0.7738659074109564, 0.7934404686943906, 0.8060338927368795, 0.9163084841350235, 0.9456292605469927, 0.9535959701043064, 0.9579489145016016, 1.0, 0.9694472581925699, 0.9871328058696307, 0.923912525177002, 0.9161018133163452, 0.8992221355438232, 0.8781681060791016, 0.8560314774513245, 0.8344151377677917, 0.8140490055084229, 0.7952375411987305, 0.7781002521514893, 0.762674868106842, 0.7489480376243591, 0.7368638515472412]\n",
      "prediction for day 12 [[0.73686385]]\n",
      "======================================================\n",
      "day 13 input [0.47124045226818534, 0.4629178415966272, 0.48109617543187233, 0.48635256111917213, 0.5007528677416706, 0.538533139869138, 0.5313603635666767, 0.5375475675527692, 0.5268979111342296, 0.5108276069756619, 0.48739288745311693, 0.5085553152462563, 0.505625975305938, 0.5273633202836259, 0.5279108604593863, 0.515344813425685, 0.5403947764667233, 0.5570126208010513, 0.5440632956443179, 0.5552604922386181, 0.5673063761053467, 0.5757111178032689, 0.584225367536343, 0.6017192761518877, 0.6150792564404414, 0.6052235332767543, 0.5949297779724587, 0.6001040326333946, 0.5950940400251868, 0.6149423713965012, 0.6099597557970816, 0.6266323541489858, 0.6201166260574371, 0.6257015358501931, 0.6197881019519809, 0.6235661291647275, 0.6239494072877598, 0.6231007200153311, 0.6338051304514469, 0.6378843047608618, 0.6427574123251294, 0.6350918498644839, 0.660223943931886, 0.6655898376543379, 0.6944178279081228, 0.7186464806855203, 0.6722698277986147, 0.6802091603471405, 0.6916801270293208, 0.7165658280176308, 0.7152243545870178, 0.7156076327100502, 0.7101048539436582, 0.7351548169846963, 0.7561256057163195, 0.7384126810304706, 0.7514988912311441, 0.7208092643797739, 0.74312152654201, 0.7513893831959921, 0.7495003695896187, 0.7495003695896187, 0.7761655761491499, 0.7729898431297397, 0.7967530867577408, 0.801242916198976, 0.8030771757877735, 0.7982314452322941, 0.8155337147863226, 0.8228433761327236, 0.8096750349056863, 0.8075396282202207, 0.8297697593560929, 0.8149040435841981, 0.8178881375420921, 0.7694034549785091, 0.7668847701700112, 0.7909217838858926, 0.7738659074109564, 0.7934404686943906, 0.8060338927368795, 0.9163084841350235, 0.9456292605469927, 0.9535959701043064, 0.9579489145016016, 1.0, 0.9694472581925699, 0.9871328058696307, 0.923912525177002, 0.9161018133163452, 0.8992221355438232, 0.8781681060791016, 0.8560314774513245, 0.8344151377677917, 0.8140490055084229, 0.7952375411987305, 0.7781002521514893, 0.762674868106842, 0.7489480376243591, 0.7368638515472412, 0.7263265252113342]\n",
      "prediction for day 13 [[0.7263265]]\n",
      "======================================================\n"
     ]
    },
    {
     "name": "stdout",
     "output_type": "stream",
     "text": [
      "day 14 input [0.4629178415966272, 0.48109617543187233, 0.48635256111917213, 0.5007528677416706, 0.538533139869138, 0.5313603635666767, 0.5375475675527692, 0.5268979111342296, 0.5108276069756619, 0.48739288745311693, 0.5085553152462563, 0.505625975305938, 0.5273633202836259, 0.5279108604593863, 0.515344813425685, 0.5403947764667233, 0.5570126208010513, 0.5440632956443179, 0.5552604922386181, 0.5673063761053467, 0.5757111178032689, 0.584225367536343, 0.6017192761518877, 0.6150792564404414, 0.6052235332767543, 0.5949297779724587, 0.6001040326333946, 0.5950940400251868, 0.6149423713965012, 0.6099597557970816, 0.6266323541489858, 0.6201166260574371, 0.6257015358501931, 0.6197881019519809, 0.6235661291647275, 0.6239494072877598, 0.6231007200153311, 0.6338051304514469, 0.6378843047608618, 0.6427574123251294, 0.6350918498644839, 0.660223943931886, 0.6655898376543379, 0.6944178279081228, 0.7186464806855203, 0.6722698277986147, 0.6802091603471405, 0.6916801270293208, 0.7165658280176308, 0.7152243545870178, 0.7156076327100502, 0.7101048539436582, 0.7351548169846963, 0.7561256057163195, 0.7384126810304706, 0.7514988912311441, 0.7208092643797739, 0.74312152654201, 0.7513893831959921, 0.7495003695896187, 0.7495003695896187, 0.7761655761491499, 0.7729898431297397, 0.7967530867577408, 0.801242916198976, 0.8030771757877735, 0.7982314452322941, 0.8155337147863226, 0.8228433761327236, 0.8096750349056863, 0.8075396282202207, 0.8297697593560929, 0.8149040435841981, 0.8178881375420921, 0.7694034549785091, 0.7668847701700112, 0.7909217838858926, 0.7738659074109564, 0.7934404686943906, 0.8060338927368795, 0.9163084841350235, 0.9456292605469927, 0.9535959701043064, 0.9579489145016016, 1.0, 0.9694472581925699, 0.9871328058696307, 0.923912525177002, 0.9161018133163452, 0.8992221355438232, 0.8781681060791016, 0.8560314774513245, 0.8344151377677917, 0.8140490055084229, 0.7952375411987305, 0.7781002521514893, 0.762674868106842, 0.7489480376243591, 0.7368638515472412, 0.7263265252113342, 0.7172060012817383]\n",
      "prediction for day 14 [[0.717206]]\n",
      "======================================================\n",
      "day 15 input [0.48109617543187233, 0.48635256111917213, 0.5007528677416706, 0.538533139869138, 0.5313603635666767, 0.5375475675527692, 0.5268979111342296, 0.5108276069756619, 0.48739288745311693, 0.5085553152462563, 0.505625975305938, 0.5273633202836259, 0.5279108604593863, 0.515344813425685, 0.5403947764667233, 0.5570126208010513, 0.5440632956443179, 0.5552604922386181, 0.5673063761053467, 0.5757111178032689, 0.584225367536343, 0.6017192761518877, 0.6150792564404414, 0.6052235332767543, 0.5949297779724587, 0.6001040326333946, 0.5950940400251868, 0.6149423713965012, 0.6099597557970816, 0.6266323541489858, 0.6201166260574371, 0.6257015358501931, 0.6197881019519809, 0.6235661291647275, 0.6239494072877598, 0.6231007200153311, 0.6338051304514469, 0.6378843047608618, 0.6427574123251294, 0.6350918498644839, 0.660223943931886, 0.6655898376543379, 0.6944178279081228, 0.7186464806855203, 0.6722698277986147, 0.6802091603471405, 0.6916801270293208, 0.7165658280176308, 0.7152243545870178, 0.7156076327100502, 0.7101048539436582, 0.7351548169846963, 0.7561256057163195, 0.7384126810304706, 0.7514988912311441, 0.7208092643797739, 0.74312152654201, 0.7513893831959921, 0.7495003695896187, 0.7495003695896187, 0.7761655761491499, 0.7729898431297397, 0.7967530867577408, 0.801242916198976, 0.8030771757877735, 0.7982314452322941, 0.8155337147863226, 0.8228433761327236, 0.8096750349056863, 0.8075396282202207, 0.8297697593560929, 0.8149040435841981, 0.8178881375420921, 0.7694034549785091, 0.7668847701700112, 0.7909217838858926, 0.7738659074109564, 0.7934404686943906, 0.8060338927368795, 0.9163084841350235, 0.9456292605469927, 0.9535959701043064, 0.9579489145016016, 1.0, 0.9694472581925699, 0.9871328058696307, 0.923912525177002, 0.9161018133163452, 0.8992221355438232, 0.8781681060791016, 0.8560314774513245, 0.8344151377677917, 0.8140490055084229, 0.7952375411987305, 0.7781002521514893, 0.762674868106842, 0.7489480376243591, 0.7368638515472412, 0.7263265252113342, 0.7172060012817383, 0.709346354007721]\n",
      "prediction for day 15 [[0.70934635]]\n",
      "======================================================\n",
      "day 16 input [0.48635256111917213, 0.5007528677416706, 0.538533139869138, 0.5313603635666767, 0.5375475675527692, 0.5268979111342296, 0.5108276069756619, 0.48739288745311693, 0.5085553152462563, 0.505625975305938, 0.5273633202836259, 0.5279108604593863, 0.515344813425685, 0.5403947764667233, 0.5570126208010513, 0.5440632956443179, 0.5552604922386181, 0.5673063761053467, 0.5757111178032689, 0.584225367536343, 0.6017192761518877, 0.6150792564404414, 0.6052235332767543, 0.5949297779724587, 0.6001040326333946, 0.5950940400251868, 0.6149423713965012, 0.6099597557970816, 0.6266323541489858, 0.6201166260574371, 0.6257015358501931, 0.6197881019519809, 0.6235661291647275, 0.6239494072877598, 0.6231007200153311, 0.6338051304514469, 0.6378843047608618, 0.6427574123251294, 0.6350918498644839, 0.660223943931886, 0.6655898376543379, 0.6944178279081228, 0.7186464806855203, 0.6722698277986147, 0.6802091603471405, 0.6916801270293208, 0.7165658280176308, 0.7152243545870178, 0.7156076327100502, 0.7101048539436582, 0.7351548169846963, 0.7561256057163195, 0.7384126810304706, 0.7514988912311441, 0.7208092643797739, 0.74312152654201, 0.7513893831959921, 0.7495003695896187, 0.7495003695896187, 0.7761655761491499, 0.7729898431297397, 0.7967530867577408, 0.801242916198976, 0.8030771757877735, 0.7982314452322941, 0.8155337147863226, 0.8228433761327236, 0.8096750349056863, 0.8075396282202207, 0.8297697593560929, 0.8149040435841981, 0.8178881375420921, 0.7694034549785091, 0.7668847701700112, 0.7909217838858926, 0.7738659074109564, 0.7934404686943906, 0.8060338927368795, 0.9163084841350235, 0.9456292605469927, 0.9535959701043064, 0.9579489145016016, 1.0, 0.9694472581925699, 0.9871328058696307, 0.923912525177002, 0.9161018133163452, 0.8992221355438232, 0.8781681060791016, 0.8560314774513245, 0.8344151377677917, 0.8140490055084229, 0.7952375411987305, 0.7781002521514893, 0.762674868106842, 0.7489480376243591, 0.7368638515472412, 0.7263265252113342, 0.7172060012817383, 0.709346354007721, 0.7025771737098694]\n",
      "prediction for day 16 [[0.7025772]]\n",
      "======================================================\n",
      "day 17 input [0.5007528677416706, 0.538533139869138, 0.5313603635666767, 0.5375475675527692, 0.5268979111342296, 0.5108276069756619, 0.48739288745311693, 0.5085553152462563, 0.505625975305938, 0.5273633202836259, 0.5279108604593863, 0.515344813425685, 0.5403947764667233, 0.5570126208010513, 0.5440632956443179, 0.5552604922386181, 0.5673063761053467, 0.5757111178032689, 0.584225367536343, 0.6017192761518877, 0.6150792564404414, 0.6052235332767543, 0.5949297779724587, 0.6001040326333946, 0.5950940400251868, 0.6149423713965012, 0.6099597557970816, 0.6266323541489858, 0.6201166260574371, 0.6257015358501931, 0.6197881019519809, 0.6235661291647275, 0.6239494072877598, 0.6231007200153311, 0.6338051304514469, 0.6378843047608618, 0.6427574123251294, 0.6350918498644839, 0.660223943931886, 0.6655898376543379, 0.6944178279081228, 0.7186464806855203, 0.6722698277986147, 0.6802091603471405, 0.6916801270293208, 0.7165658280176308, 0.7152243545870178, 0.7156076327100502, 0.7101048539436582, 0.7351548169846963, 0.7561256057163195, 0.7384126810304706, 0.7514988912311441, 0.7208092643797739, 0.74312152654201, 0.7513893831959921, 0.7495003695896187, 0.7495003695896187, 0.7761655761491499, 0.7729898431297397, 0.7967530867577408, 0.801242916198976, 0.8030771757877735, 0.7982314452322941, 0.8155337147863226, 0.8228433761327236, 0.8096750349056863, 0.8075396282202207, 0.8297697593560929, 0.8149040435841981, 0.8178881375420921, 0.7694034549785091, 0.7668847701700112, 0.7909217838858926, 0.7738659074109564, 0.7934404686943906, 0.8060338927368795, 0.9163084841350235, 0.9456292605469927, 0.9535959701043064, 0.9579489145016016, 1.0, 0.9694472581925699, 0.9871328058696307, 0.923912525177002, 0.9161018133163452, 0.8992221355438232, 0.8781681060791016, 0.8560314774513245, 0.8344151377677917, 0.8140490055084229, 0.7952375411987305, 0.7781002521514893, 0.762674868106842, 0.7489480376243591, 0.7368638515472412, 0.7263265252113342, 0.7172060012817383, 0.709346354007721, 0.7025771737098694, 0.6967212557792664]\n",
      "prediction for day 17 [[0.69672126]]\n",
      "======================================================\n"
     ]
    },
    {
     "name": "stdout",
     "output_type": "stream",
     "text": [
      "day 18 input [0.538533139869138, 0.5313603635666767, 0.5375475675527692, 0.5268979111342296, 0.5108276069756619, 0.48739288745311693, 0.5085553152462563, 0.505625975305938, 0.5273633202836259, 0.5279108604593863, 0.515344813425685, 0.5403947764667233, 0.5570126208010513, 0.5440632956443179, 0.5552604922386181, 0.5673063761053467, 0.5757111178032689, 0.584225367536343, 0.6017192761518877, 0.6150792564404414, 0.6052235332767543, 0.5949297779724587, 0.6001040326333946, 0.5950940400251868, 0.6149423713965012, 0.6099597557970816, 0.6266323541489858, 0.6201166260574371, 0.6257015358501931, 0.6197881019519809, 0.6235661291647275, 0.6239494072877598, 0.6231007200153311, 0.6338051304514469, 0.6378843047608618, 0.6427574123251294, 0.6350918498644839, 0.660223943931886, 0.6655898376543379, 0.6944178279081228, 0.7186464806855203, 0.6722698277986147, 0.6802091603471405, 0.6916801270293208, 0.7165658280176308, 0.7152243545870178, 0.7156076327100502, 0.7101048539436582, 0.7351548169846963, 0.7561256057163195, 0.7384126810304706, 0.7514988912311441, 0.7208092643797739, 0.74312152654201, 0.7513893831959921, 0.7495003695896187, 0.7495003695896187, 0.7761655761491499, 0.7729898431297397, 0.7967530867577408, 0.801242916198976, 0.8030771757877735, 0.7982314452322941, 0.8155337147863226, 0.8228433761327236, 0.8096750349056863, 0.8075396282202207, 0.8297697593560929, 0.8149040435841981, 0.8178881375420921, 0.7694034549785091, 0.7668847701700112, 0.7909217838858926, 0.7738659074109564, 0.7934404686943906, 0.8060338927368795, 0.9163084841350235, 0.9456292605469927, 0.9535959701043064, 0.9579489145016016, 1.0, 0.9694472581925699, 0.9871328058696307, 0.923912525177002, 0.9161018133163452, 0.8992221355438232, 0.8781681060791016, 0.8560314774513245, 0.8344151377677917, 0.8140490055084229, 0.7952375411987305, 0.7781002521514893, 0.762674868106842, 0.7489480376243591, 0.7368638515472412, 0.7263265252113342, 0.7172060012817383, 0.709346354007721, 0.7025771737098694, 0.6967212557792664, 0.6916046142578125]\n",
      "prediction for day 18 [[0.6916046]]\n",
      "======================================================\n",
      "day 19 input [0.5313603635666767, 0.5375475675527692, 0.5268979111342296, 0.5108276069756619, 0.48739288745311693, 0.5085553152462563, 0.505625975305938, 0.5273633202836259, 0.5279108604593863, 0.515344813425685, 0.5403947764667233, 0.5570126208010513, 0.5440632956443179, 0.5552604922386181, 0.5673063761053467, 0.5757111178032689, 0.584225367536343, 0.6017192761518877, 0.6150792564404414, 0.6052235332767543, 0.5949297779724587, 0.6001040326333946, 0.5950940400251868, 0.6149423713965012, 0.6099597557970816, 0.6266323541489858, 0.6201166260574371, 0.6257015358501931, 0.6197881019519809, 0.6235661291647275, 0.6239494072877598, 0.6231007200153311, 0.6338051304514469, 0.6378843047608618, 0.6427574123251294, 0.6350918498644839, 0.660223943931886, 0.6655898376543379, 0.6944178279081228, 0.7186464806855203, 0.6722698277986147, 0.6802091603471405, 0.6916801270293208, 0.7165658280176308, 0.7152243545870178, 0.7156076327100502, 0.7101048539436582, 0.7351548169846963, 0.7561256057163195, 0.7384126810304706, 0.7514988912311441, 0.7208092643797739, 0.74312152654201, 0.7513893831959921, 0.7495003695896187, 0.7495003695896187, 0.7761655761491499, 0.7729898431297397, 0.7967530867577408, 0.801242916198976, 0.8030771757877735, 0.7982314452322941, 0.8155337147863226, 0.8228433761327236, 0.8096750349056863, 0.8075396282202207, 0.8297697593560929, 0.8149040435841981, 0.8178881375420921, 0.7694034549785091, 0.7668847701700112, 0.7909217838858926, 0.7738659074109564, 0.7934404686943906, 0.8060338927368795, 0.9163084841350235, 0.9456292605469927, 0.9535959701043064, 0.9579489145016016, 1.0, 0.9694472581925699, 0.9871328058696307, 0.923912525177002, 0.9161018133163452, 0.8992221355438232, 0.8781681060791016, 0.8560314774513245, 0.8344151377677917, 0.8140490055084229, 0.7952375411987305, 0.7781002521514893, 0.762674868106842, 0.7489480376243591, 0.7368638515472412, 0.7263265252113342, 0.7172060012817383, 0.709346354007721, 0.7025771737098694, 0.6967212557792664, 0.6916046142578125, 0.6870628595352173]\n",
      "prediction for day 19 [[0.68706286]]\n",
      "======================================================\n",
      "day 20 input [0.5375475675527692, 0.5268979111342296, 0.5108276069756619, 0.48739288745311693, 0.5085553152462563, 0.505625975305938, 0.5273633202836259, 0.5279108604593863, 0.515344813425685, 0.5403947764667233, 0.5570126208010513, 0.5440632956443179, 0.5552604922386181, 0.5673063761053467, 0.5757111178032689, 0.584225367536343, 0.6017192761518877, 0.6150792564404414, 0.6052235332767543, 0.5949297779724587, 0.6001040326333946, 0.5950940400251868, 0.6149423713965012, 0.6099597557970816, 0.6266323541489858, 0.6201166260574371, 0.6257015358501931, 0.6197881019519809, 0.6235661291647275, 0.6239494072877598, 0.6231007200153311, 0.6338051304514469, 0.6378843047608618, 0.6427574123251294, 0.6350918498644839, 0.660223943931886, 0.6655898376543379, 0.6944178279081228, 0.7186464806855203, 0.6722698277986147, 0.6802091603471405, 0.6916801270293208, 0.7165658280176308, 0.7152243545870178, 0.7156076327100502, 0.7101048539436582, 0.7351548169846963, 0.7561256057163195, 0.7384126810304706, 0.7514988912311441, 0.7208092643797739, 0.74312152654201, 0.7513893831959921, 0.7495003695896187, 0.7495003695896187, 0.7761655761491499, 0.7729898431297397, 0.7967530867577408, 0.801242916198976, 0.8030771757877735, 0.7982314452322941, 0.8155337147863226, 0.8228433761327236, 0.8096750349056863, 0.8075396282202207, 0.8297697593560929, 0.8149040435841981, 0.8178881375420921, 0.7694034549785091, 0.7668847701700112, 0.7909217838858926, 0.7738659074109564, 0.7934404686943906, 0.8060338927368795, 0.9163084841350235, 0.9456292605469927, 0.9535959701043064, 0.9579489145016016, 1.0, 0.9694472581925699, 0.9871328058696307, 0.923912525177002, 0.9161018133163452, 0.8992221355438232, 0.8781681060791016, 0.8560314774513245, 0.8344151377677917, 0.8140490055084229, 0.7952375411987305, 0.7781002521514893, 0.762674868106842, 0.7489480376243591, 0.7368638515472412, 0.7263265252113342, 0.7172060012817383, 0.709346354007721, 0.7025771737098694, 0.6967212557792664, 0.6916046142578125, 0.6870628595352173, 0.6829464435577393]\n",
      "prediction for day 20 [[0.68294644]]\n",
      "======================================================\n",
      "day 21 input [0.5268979111342296, 0.5108276069756619, 0.48739288745311693, 0.5085553152462563, 0.505625975305938, 0.5273633202836259, 0.5279108604593863, 0.515344813425685, 0.5403947764667233, 0.5570126208010513, 0.5440632956443179, 0.5552604922386181, 0.5673063761053467, 0.5757111178032689, 0.584225367536343, 0.6017192761518877, 0.6150792564404414, 0.6052235332767543, 0.5949297779724587, 0.6001040326333946, 0.5950940400251868, 0.6149423713965012, 0.6099597557970816, 0.6266323541489858, 0.6201166260574371, 0.6257015358501931, 0.6197881019519809, 0.6235661291647275, 0.6239494072877598, 0.6231007200153311, 0.6338051304514469, 0.6378843047608618, 0.6427574123251294, 0.6350918498644839, 0.660223943931886, 0.6655898376543379, 0.6944178279081228, 0.7186464806855203, 0.6722698277986147, 0.6802091603471405, 0.6916801270293208, 0.7165658280176308, 0.7152243545870178, 0.7156076327100502, 0.7101048539436582, 0.7351548169846963, 0.7561256057163195, 0.7384126810304706, 0.7514988912311441, 0.7208092643797739, 0.74312152654201, 0.7513893831959921, 0.7495003695896187, 0.7495003695896187, 0.7761655761491499, 0.7729898431297397, 0.7967530867577408, 0.801242916198976, 0.8030771757877735, 0.7982314452322941, 0.8155337147863226, 0.8228433761327236, 0.8096750349056863, 0.8075396282202207, 0.8297697593560929, 0.8149040435841981, 0.8178881375420921, 0.7694034549785091, 0.7668847701700112, 0.7909217838858926, 0.7738659074109564, 0.7934404686943906, 0.8060338927368795, 0.9163084841350235, 0.9456292605469927, 0.9535959701043064, 0.9579489145016016, 1.0, 0.9694472581925699, 0.9871328058696307, 0.923912525177002, 0.9161018133163452, 0.8992221355438232, 0.8781681060791016, 0.8560314774513245, 0.8344151377677917, 0.8140490055084229, 0.7952375411987305, 0.7781002521514893, 0.762674868106842, 0.7489480376243591, 0.7368638515472412, 0.7263265252113342, 0.7172060012817383, 0.709346354007721, 0.7025771737098694, 0.6967212557792664, 0.6916046142578125, 0.6870628595352173, 0.6829464435577393, 0.6791229248046875]\n",
      "prediction for day 21 [[0.6791229]]\n",
      "======================================================\n"
     ]
    },
    {
     "name": "stdout",
     "output_type": "stream",
     "text": [
      "day 22 input [0.5108276069756619, 0.48739288745311693, 0.5085553152462563, 0.505625975305938, 0.5273633202836259, 0.5279108604593863, 0.515344813425685, 0.5403947764667233, 0.5570126208010513, 0.5440632956443179, 0.5552604922386181, 0.5673063761053467, 0.5757111178032689, 0.584225367536343, 0.6017192761518877, 0.6150792564404414, 0.6052235332767543, 0.5949297779724587, 0.6001040326333946, 0.5950940400251868, 0.6149423713965012, 0.6099597557970816, 0.6266323541489858, 0.6201166260574371, 0.6257015358501931, 0.6197881019519809, 0.6235661291647275, 0.6239494072877598, 0.6231007200153311, 0.6338051304514469, 0.6378843047608618, 0.6427574123251294, 0.6350918498644839, 0.660223943931886, 0.6655898376543379, 0.6944178279081228, 0.7186464806855203, 0.6722698277986147, 0.6802091603471405, 0.6916801270293208, 0.7165658280176308, 0.7152243545870178, 0.7156076327100502, 0.7101048539436582, 0.7351548169846963, 0.7561256057163195, 0.7384126810304706, 0.7514988912311441, 0.7208092643797739, 0.74312152654201, 0.7513893831959921, 0.7495003695896187, 0.7495003695896187, 0.7761655761491499, 0.7729898431297397, 0.7967530867577408, 0.801242916198976, 0.8030771757877735, 0.7982314452322941, 0.8155337147863226, 0.8228433761327236, 0.8096750349056863, 0.8075396282202207, 0.8297697593560929, 0.8149040435841981, 0.8178881375420921, 0.7694034549785091, 0.7668847701700112, 0.7909217838858926, 0.7738659074109564, 0.7934404686943906, 0.8060338927368795, 0.9163084841350235, 0.9456292605469927, 0.9535959701043064, 0.9579489145016016, 1.0, 0.9694472581925699, 0.9871328058696307, 0.923912525177002, 0.9161018133163452, 0.8992221355438232, 0.8781681060791016, 0.8560314774513245, 0.8344151377677917, 0.8140490055084229, 0.7952375411987305, 0.7781002521514893, 0.762674868106842, 0.7489480376243591, 0.7368638515472412, 0.7263265252113342, 0.7172060012817383, 0.709346354007721, 0.7025771737098694, 0.6967212557792664, 0.6916046142578125, 0.6870628595352173, 0.6829464435577393, 0.6791229248046875, 0.6754801273345947]\n",
      "prediction for day 22 [[0.6754801]]\n",
      "======================================================\n",
      "day 23 input [0.48739288745311693, 0.5085553152462563, 0.505625975305938, 0.5273633202836259, 0.5279108604593863, 0.515344813425685, 0.5403947764667233, 0.5570126208010513, 0.5440632956443179, 0.5552604922386181, 0.5673063761053467, 0.5757111178032689, 0.584225367536343, 0.6017192761518877, 0.6150792564404414, 0.6052235332767543, 0.5949297779724587, 0.6001040326333946, 0.5950940400251868, 0.6149423713965012, 0.6099597557970816, 0.6266323541489858, 0.6201166260574371, 0.6257015358501931, 0.6197881019519809, 0.6235661291647275, 0.6239494072877598, 0.6231007200153311, 0.6338051304514469, 0.6378843047608618, 0.6427574123251294, 0.6350918498644839, 0.660223943931886, 0.6655898376543379, 0.6944178279081228, 0.7186464806855203, 0.6722698277986147, 0.6802091603471405, 0.6916801270293208, 0.7165658280176308, 0.7152243545870178, 0.7156076327100502, 0.7101048539436582, 0.7351548169846963, 0.7561256057163195, 0.7384126810304706, 0.7514988912311441, 0.7208092643797739, 0.74312152654201, 0.7513893831959921, 0.7495003695896187, 0.7495003695896187, 0.7761655761491499, 0.7729898431297397, 0.7967530867577408, 0.801242916198976, 0.8030771757877735, 0.7982314452322941, 0.8155337147863226, 0.8228433761327236, 0.8096750349056863, 0.8075396282202207, 0.8297697593560929, 0.8149040435841981, 0.8178881375420921, 0.7694034549785091, 0.7668847701700112, 0.7909217838858926, 0.7738659074109564, 0.7934404686943906, 0.8060338927368795, 0.9163084841350235, 0.9456292605469927, 0.9535959701043064, 0.9579489145016016, 1.0, 0.9694472581925699, 0.9871328058696307, 0.923912525177002, 0.9161018133163452, 0.8992221355438232, 0.8781681060791016, 0.8560314774513245, 0.8344151377677917, 0.8140490055084229, 0.7952375411987305, 0.7781002521514893, 0.762674868106842, 0.7489480376243591, 0.7368638515472412, 0.7263265252113342, 0.7172060012817383, 0.709346354007721, 0.7025771737098694, 0.6967212557792664, 0.6916046142578125, 0.6870628595352173, 0.6829464435577393, 0.6791229248046875, 0.6754801273345947, 0.6719255447387695]\n",
      "prediction for day 23 [[0.67192554]]\n",
      "======================================================\n",
      "day 24 input [0.5085553152462563, 0.505625975305938, 0.5273633202836259, 0.5279108604593863, 0.515344813425685, 0.5403947764667233, 0.5570126208010513, 0.5440632956443179, 0.5552604922386181, 0.5673063761053467, 0.5757111178032689, 0.584225367536343, 0.6017192761518877, 0.6150792564404414, 0.6052235332767543, 0.5949297779724587, 0.6001040326333946, 0.5950940400251868, 0.6149423713965012, 0.6099597557970816, 0.6266323541489858, 0.6201166260574371, 0.6257015358501931, 0.6197881019519809, 0.6235661291647275, 0.6239494072877598, 0.6231007200153311, 0.6338051304514469, 0.6378843047608618, 0.6427574123251294, 0.6350918498644839, 0.660223943931886, 0.6655898376543379, 0.6944178279081228, 0.7186464806855203, 0.6722698277986147, 0.6802091603471405, 0.6916801270293208, 0.7165658280176308, 0.7152243545870178, 0.7156076327100502, 0.7101048539436582, 0.7351548169846963, 0.7561256057163195, 0.7384126810304706, 0.7514988912311441, 0.7208092643797739, 0.74312152654201, 0.7513893831959921, 0.7495003695896187, 0.7495003695896187, 0.7761655761491499, 0.7729898431297397, 0.7967530867577408, 0.801242916198976, 0.8030771757877735, 0.7982314452322941, 0.8155337147863226, 0.8228433761327236, 0.8096750349056863, 0.8075396282202207, 0.8297697593560929, 0.8149040435841981, 0.8178881375420921, 0.7694034549785091, 0.7668847701700112, 0.7909217838858926, 0.7738659074109564, 0.7934404686943906, 0.8060338927368795, 0.9163084841350235, 0.9456292605469927, 0.9535959701043064, 0.9579489145016016, 1.0, 0.9694472581925699, 0.9871328058696307, 0.923912525177002, 0.9161018133163452, 0.8992221355438232, 0.8781681060791016, 0.8560314774513245, 0.8344151377677917, 0.8140490055084229, 0.7952375411987305, 0.7781002521514893, 0.762674868106842, 0.7489480376243591, 0.7368638515472412, 0.7263265252113342, 0.7172060012817383, 0.709346354007721, 0.7025771737098694, 0.6967212557792664, 0.6916046142578125, 0.6870628595352173, 0.6829464435577393, 0.6791229248046875, 0.6754801273345947, 0.6719255447387695, 0.6683867573738098]\n",
      "prediction for day 24 [[0.66838676]]\n",
      "======================================================\n",
      "day 25 input [0.505625975305938, 0.5273633202836259, 0.5279108604593863, 0.515344813425685, 0.5403947764667233, 0.5570126208010513, 0.5440632956443179, 0.5552604922386181, 0.5673063761053467, 0.5757111178032689, 0.584225367536343, 0.6017192761518877, 0.6150792564404414, 0.6052235332767543, 0.5949297779724587, 0.6001040326333946, 0.5950940400251868, 0.6149423713965012, 0.6099597557970816, 0.6266323541489858, 0.6201166260574371, 0.6257015358501931, 0.6197881019519809, 0.6235661291647275, 0.6239494072877598, 0.6231007200153311, 0.6338051304514469, 0.6378843047608618, 0.6427574123251294, 0.6350918498644839, 0.660223943931886, 0.6655898376543379, 0.6944178279081228, 0.7186464806855203, 0.6722698277986147, 0.6802091603471405, 0.6916801270293208, 0.7165658280176308, 0.7152243545870178, 0.7156076327100502, 0.7101048539436582, 0.7351548169846963, 0.7561256057163195, 0.7384126810304706, 0.7514988912311441, 0.7208092643797739, 0.74312152654201, 0.7513893831959921, 0.7495003695896187, 0.7495003695896187, 0.7761655761491499, 0.7729898431297397, 0.7967530867577408, 0.801242916198976, 0.8030771757877735, 0.7982314452322941, 0.8155337147863226, 0.8228433761327236, 0.8096750349056863, 0.8075396282202207, 0.8297697593560929, 0.8149040435841981, 0.8178881375420921, 0.7694034549785091, 0.7668847701700112, 0.7909217838858926, 0.7738659074109564, 0.7934404686943906, 0.8060338927368795, 0.9163084841350235, 0.9456292605469927, 0.9535959701043064, 0.9579489145016016, 1.0, 0.9694472581925699, 0.9871328058696307, 0.923912525177002, 0.9161018133163452, 0.8992221355438232, 0.8781681060791016, 0.8560314774513245, 0.8344151377677917, 0.8140490055084229, 0.7952375411987305, 0.7781002521514893, 0.762674868106842, 0.7489480376243591, 0.7368638515472412, 0.7263265252113342, 0.7172060012817383, 0.709346354007721, 0.7025771737098694, 0.6967212557792664, 0.6916046142578125, 0.6870628595352173, 0.6829464435577393, 0.6791229248046875, 0.6754801273345947, 0.6719255447387695, 0.6683867573738098, 0.6648105978965759]\n",
      "prediction for day 25 [[0.6648106]]\n",
      "======================================================\n",
      "day 26 input [0.5273633202836259, 0.5279108604593863, 0.515344813425685, 0.5403947764667233, 0.5570126208010513, 0.5440632956443179, 0.5552604922386181, 0.5673063761053467, 0.5757111178032689, 0.584225367536343, 0.6017192761518877, 0.6150792564404414, 0.6052235332767543, 0.5949297779724587, 0.6001040326333946, 0.5950940400251868, 0.6149423713965012, 0.6099597557970816, 0.6266323541489858, 0.6201166260574371, 0.6257015358501931, 0.6197881019519809, 0.6235661291647275, 0.6239494072877598, 0.6231007200153311, 0.6338051304514469, 0.6378843047608618, 0.6427574123251294, 0.6350918498644839, 0.660223943931886, 0.6655898376543379, 0.6944178279081228, 0.7186464806855203, 0.6722698277986147, 0.6802091603471405, 0.6916801270293208, 0.7165658280176308, 0.7152243545870178, 0.7156076327100502, 0.7101048539436582, 0.7351548169846963, 0.7561256057163195, 0.7384126810304706, 0.7514988912311441, 0.7208092643797739, 0.74312152654201, 0.7513893831959921, 0.7495003695896187, 0.7495003695896187, 0.7761655761491499, 0.7729898431297397, 0.7967530867577408, 0.801242916198976, 0.8030771757877735, 0.7982314452322941, 0.8155337147863226, 0.8228433761327236, 0.8096750349056863, 0.8075396282202207, 0.8297697593560929, 0.8149040435841981, 0.8178881375420921, 0.7694034549785091, 0.7668847701700112, 0.7909217838858926, 0.7738659074109564, 0.7934404686943906, 0.8060338927368795, 0.9163084841350235, 0.9456292605469927, 0.9535959701043064, 0.9579489145016016, 1.0, 0.9694472581925699, 0.9871328058696307, 0.923912525177002, 0.9161018133163452, 0.8992221355438232, 0.8781681060791016, 0.8560314774513245, 0.8344151377677917, 0.8140490055084229, 0.7952375411987305, 0.7781002521514893, 0.762674868106842, 0.7489480376243591, 0.7368638515472412, 0.7263265252113342, 0.7172060012817383, 0.709346354007721, 0.7025771737098694, 0.6967212557792664, 0.6916046142578125, 0.6870628595352173, 0.6829464435577393, 0.6791229248046875, 0.6754801273345947, 0.6719255447387695, 0.6683867573738098, 0.6648105978965759, 0.6611607074737549]\n",
      "prediction for day 26 [[0.6611607]]\n",
      "======================================================\n"
     ]
    },
    {
     "name": "stdout",
     "output_type": "stream",
     "text": [
      "day 27 input [0.5279108604593863, 0.515344813425685, 0.5403947764667233, 0.5570126208010513, 0.5440632956443179, 0.5552604922386181, 0.5673063761053467, 0.5757111178032689, 0.584225367536343, 0.6017192761518877, 0.6150792564404414, 0.6052235332767543, 0.5949297779724587, 0.6001040326333946, 0.5950940400251868, 0.6149423713965012, 0.6099597557970816, 0.6266323541489858, 0.6201166260574371, 0.6257015358501931, 0.6197881019519809, 0.6235661291647275, 0.6239494072877598, 0.6231007200153311, 0.6338051304514469, 0.6378843047608618, 0.6427574123251294, 0.6350918498644839, 0.660223943931886, 0.6655898376543379, 0.6944178279081228, 0.7186464806855203, 0.6722698277986147, 0.6802091603471405, 0.6916801270293208, 0.7165658280176308, 0.7152243545870178, 0.7156076327100502, 0.7101048539436582, 0.7351548169846963, 0.7561256057163195, 0.7384126810304706, 0.7514988912311441, 0.7208092643797739, 0.74312152654201, 0.7513893831959921, 0.7495003695896187, 0.7495003695896187, 0.7761655761491499, 0.7729898431297397, 0.7967530867577408, 0.801242916198976, 0.8030771757877735, 0.7982314452322941, 0.8155337147863226, 0.8228433761327236, 0.8096750349056863, 0.8075396282202207, 0.8297697593560929, 0.8149040435841981, 0.8178881375420921, 0.7694034549785091, 0.7668847701700112, 0.7909217838858926, 0.7738659074109564, 0.7934404686943906, 0.8060338927368795, 0.9163084841350235, 0.9456292605469927, 0.9535959701043064, 0.9579489145016016, 1.0, 0.9694472581925699, 0.9871328058696307, 0.923912525177002, 0.9161018133163452, 0.8992221355438232, 0.8781681060791016, 0.8560314774513245, 0.8344151377677917, 0.8140490055084229, 0.7952375411987305, 0.7781002521514893, 0.762674868106842, 0.7489480376243591, 0.7368638515472412, 0.7263265252113342, 0.7172060012817383, 0.709346354007721, 0.7025771737098694, 0.6967212557792664, 0.6916046142578125, 0.6870628595352173, 0.6829464435577393, 0.6791229248046875, 0.6754801273345947, 0.6719255447387695, 0.6683867573738098, 0.6648105978965759, 0.6611607074737549, 0.6574156284332275]\n",
      "prediction for day 27 [[0.6574156]]\n",
      "======================================================\n",
      "day 28 input [0.515344813425685, 0.5403947764667233, 0.5570126208010513, 0.5440632956443179, 0.5552604922386181, 0.5673063761053467, 0.5757111178032689, 0.584225367536343, 0.6017192761518877, 0.6150792564404414, 0.6052235332767543, 0.5949297779724587, 0.6001040326333946, 0.5950940400251868, 0.6149423713965012, 0.6099597557970816, 0.6266323541489858, 0.6201166260574371, 0.6257015358501931, 0.6197881019519809, 0.6235661291647275, 0.6239494072877598, 0.6231007200153311, 0.6338051304514469, 0.6378843047608618, 0.6427574123251294, 0.6350918498644839, 0.660223943931886, 0.6655898376543379, 0.6944178279081228, 0.7186464806855203, 0.6722698277986147, 0.6802091603471405, 0.6916801270293208, 0.7165658280176308, 0.7152243545870178, 0.7156076327100502, 0.7101048539436582, 0.7351548169846963, 0.7561256057163195, 0.7384126810304706, 0.7514988912311441, 0.7208092643797739, 0.74312152654201, 0.7513893831959921, 0.7495003695896187, 0.7495003695896187, 0.7761655761491499, 0.7729898431297397, 0.7967530867577408, 0.801242916198976, 0.8030771757877735, 0.7982314452322941, 0.8155337147863226, 0.8228433761327236, 0.8096750349056863, 0.8075396282202207, 0.8297697593560929, 0.8149040435841981, 0.8178881375420921, 0.7694034549785091, 0.7668847701700112, 0.7909217838858926, 0.7738659074109564, 0.7934404686943906, 0.8060338927368795, 0.9163084841350235, 0.9456292605469927, 0.9535959701043064, 0.9579489145016016, 1.0, 0.9694472581925699, 0.9871328058696307, 0.923912525177002, 0.9161018133163452, 0.8992221355438232, 0.8781681060791016, 0.8560314774513245, 0.8344151377677917, 0.8140490055084229, 0.7952375411987305, 0.7781002521514893, 0.762674868106842, 0.7489480376243591, 0.7368638515472412, 0.7263265252113342, 0.7172060012817383, 0.709346354007721, 0.7025771737098694, 0.6967212557792664, 0.6916046142578125, 0.6870628595352173, 0.6829464435577393, 0.6791229248046875, 0.6754801273345947, 0.6719255447387695, 0.6683867573738098, 0.6648105978965759, 0.6611607074737549, 0.6574156284332275, 0.6535670757293701]\n",
      "prediction for day 28 [[0.6535671]]\n",
      "======================================================\n",
      "day 29 input [0.5403947764667233, 0.5570126208010513, 0.5440632956443179, 0.5552604922386181, 0.5673063761053467, 0.5757111178032689, 0.584225367536343, 0.6017192761518877, 0.6150792564404414, 0.6052235332767543, 0.5949297779724587, 0.6001040326333946, 0.5950940400251868, 0.6149423713965012, 0.6099597557970816, 0.6266323541489858, 0.6201166260574371, 0.6257015358501931, 0.6197881019519809, 0.6235661291647275, 0.6239494072877598, 0.6231007200153311, 0.6338051304514469, 0.6378843047608618, 0.6427574123251294, 0.6350918498644839, 0.660223943931886, 0.6655898376543379, 0.6944178279081228, 0.7186464806855203, 0.6722698277986147, 0.6802091603471405, 0.6916801270293208, 0.7165658280176308, 0.7152243545870178, 0.7156076327100502, 0.7101048539436582, 0.7351548169846963, 0.7561256057163195, 0.7384126810304706, 0.7514988912311441, 0.7208092643797739, 0.74312152654201, 0.7513893831959921, 0.7495003695896187, 0.7495003695896187, 0.7761655761491499, 0.7729898431297397, 0.7967530867577408, 0.801242916198976, 0.8030771757877735, 0.7982314452322941, 0.8155337147863226, 0.8228433761327236, 0.8096750349056863, 0.8075396282202207, 0.8297697593560929, 0.8149040435841981, 0.8178881375420921, 0.7694034549785091, 0.7668847701700112, 0.7909217838858926, 0.7738659074109564, 0.7934404686943906, 0.8060338927368795, 0.9163084841350235, 0.9456292605469927, 0.9535959701043064, 0.9579489145016016, 1.0, 0.9694472581925699, 0.9871328058696307, 0.923912525177002, 0.9161018133163452, 0.8992221355438232, 0.8781681060791016, 0.8560314774513245, 0.8344151377677917, 0.8140490055084229, 0.7952375411987305, 0.7781002521514893, 0.762674868106842, 0.7489480376243591, 0.7368638515472412, 0.7263265252113342, 0.7172060012817383, 0.709346354007721, 0.7025771737098694, 0.6967212557792664, 0.6916046142578125, 0.6870628595352173, 0.6829464435577393, 0.6791229248046875, 0.6754801273345947, 0.6719255447387695, 0.6683867573738098, 0.6648105978965759, 0.6611607074737549, 0.6574156284332275, 0.6535670757293701, 0.6496174931526184]\n",
      "prediction for day 29 [[0.6496175]]\n",
      "======================================================\n",
      "day 30 input [0.5570126208010513, 0.5440632956443179, 0.5552604922386181, 0.5673063761053467, 0.5757111178032689, 0.584225367536343, 0.6017192761518877, 0.6150792564404414, 0.6052235332767543, 0.5949297779724587, 0.6001040326333946, 0.5950940400251868, 0.6149423713965012, 0.6099597557970816, 0.6266323541489858, 0.6201166260574371, 0.6257015358501931, 0.6197881019519809, 0.6235661291647275, 0.6239494072877598, 0.6231007200153311, 0.6338051304514469, 0.6378843047608618, 0.6427574123251294, 0.6350918498644839, 0.660223943931886, 0.6655898376543379, 0.6944178279081228, 0.7186464806855203, 0.6722698277986147, 0.6802091603471405, 0.6916801270293208, 0.7165658280176308, 0.7152243545870178, 0.7156076327100502, 0.7101048539436582, 0.7351548169846963, 0.7561256057163195, 0.7384126810304706, 0.7514988912311441, 0.7208092643797739, 0.74312152654201, 0.7513893831959921, 0.7495003695896187, 0.7495003695896187, 0.7761655761491499, 0.7729898431297397, 0.7967530867577408, 0.801242916198976, 0.8030771757877735, 0.7982314452322941, 0.8155337147863226, 0.8228433761327236, 0.8096750349056863, 0.8075396282202207, 0.8297697593560929, 0.8149040435841981, 0.8178881375420921, 0.7694034549785091, 0.7668847701700112, 0.7909217838858926, 0.7738659074109564, 0.7934404686943906, 0.8060338927368795, 0.9163084841350235, 0.9456292605469927, 0.9535959701043064, 0.9579489145016016, 1.0, 0.9694472581925699, 0.9871328058696307, 0.923912525177002, 0.9161018133163452, 0.8992221355438232, 0.8781681060791016, 0.8560314774513245, 0.8344151377677917, 0.8140490055084229, 0.7952375411987305, 0.7781002521514893, 0.762674868106842, 0.7489480376243591, 0.7368638515472412, 0.7263265252113342, 0.7172060012817383, 0.709346354007721, 0.7025771737098694, 0.6967212557792664, 0.6916046142578125, 0.6870628595352173, 0.6829464435577393, 0.6791229248046875, 0.6754801273345947, 0.6719255447387695, 0.6683867573738098, 0.6648105978965759, 0.6611607074737549, 0.6574156284332275, 0.6535670757293701, 0.6496174931526184, 0.6455765962600708]\n",
      "prediction for day 30 [[0.6455766]]\n",
      "======================================================\n",
      "Predictions for next 30 days:  \n",
      " [0.923912525177002, 0.9161018133163452, 0.8992221355438232, 0.8781681060791016, 0.8560314774513245, 0.8344151377677917, 0.8140490055084229, 0.7952375411987305, 0.7781002521514893, 0.762674868106842, 0.7489480376243591, 0.7368638515472412, 0.7263265252113342, 0.7172060012817383, 0.709346354007721, 0.7025771737098694, 0.6967212557792664, 0.6916046142578125, 0.6870628595352173, 0.6829464435577393, 0.6791229248046875, 0.6754801273345947, 0.6719255447387695, 0.6683867573738098, 0.6648105978965759, 0.6611607074737549, 0.6574156284332275, 0.6535670757293701, 0.6496174931526184, 0.6455765962600708]\n"
     ]
    }
   ],
   "source": [
    "#predicting for future 30 days\n",
    "\n",
    "\n",
    "temp_input= test_data[340:].reshape(1,-1) #converting shape to (1,100)\n",
    "\n",
    "temp_input= temp_input[0].tolist()        #converting to a list\n",
    "#temp_input     #test_data for previous 100 days, we will use this data for predicting next 30 days\n",
    "\n",
    "\n",
    "\n",
    "\n",
    "predictions=[]                                \n",
    "for i in range(1,31):                                                       \n",
    "    if i == 1:                                                            #here we are taking i=1 because we would be predicting based on predefined 100 data points and from else part we would be predicting based on LIFO data points\n",
    "        temp_input_arr= np.array(temp_input)                              #converting the list of 100 previous data into an array\n",
    "        temp_input_arr= temp_input_arr.reshape(1, len(temp_input),1)      #reshaping array to 3d as per the requirement of tensorflow model\n",
    "        y_hat1= model.predict(temp_input_arr)                             #predicting the value when i=1 using tensorflow model\n",
    "        temp_input.extend(y_hat1[0].tolist())                             #extending and converting to list the y_hat predicted value to temp_input list\n",
    "        predictions.extend(y_hat1[0].tolist())                            #storing the y_hat value to a 30 days prediction list\n",
    "        print(\"day {} input {}\". format(i,temp_input))\n",
    "        print('prediction for day', i, y_hat1)\n",
    "        print('======================================================')\n",
    "        \n",
    "    else:\n",
    "        temp_input= temp_input[1:]                                       #transforming the temp_input list such that is has last 100 data points for the prediction of next day, means we are indexing is such a way that it removes the first element and adding the new prediction value\n",
    "        temp_input_arr= np.array(temp_input)                             # again converting the list of 100 data into an array\n",
    "        temp_input_arr= temp_input_arr.reshape(1, len(temp_input),1)     #reshaping array to 3d as per the requirement of tensorflow model\n",
    "        y_hat1= model.predict(temp_input_arr)                            #predicting the value using tensorflow model\n",
    "        temp_input.extend(y_hat1[0].tolist())                            #extending and converting to list the y_hat predicted value to temp_input list\n",
    "        predictions.extend(y_hat1[0].tolist())                           #storing the y_hat value to a 30 days prediction list\n",
    "        print(\"day {} input {}\". format(i,temp_input))\n",
    "        print('prediction for day', i, y_hat1)\n",
    "        print('======================================================')\n",
    "\n",
    "\n",
    "print('Predictions for next 30 days: ', '\\n', predictions)"
   ]
  },
  {
   "cell_type": "code",
   "execution_count": 37,
   "metadata": {},
   "outputs": [
    {
     "data": {
      "text/plain": [
       "list"
      ]
     },
     "execution_count": 37,
     "metadata": {},
     "output_type": "execute_result"
    }
   ],
   "source": [
    "type(predictions)"
   ]
  },
  {
   "cell_type": "code",
   "execution_count": 38,
   "metadata": {},
   "outputs": [],
   "source": [
    "data_index= np.arange(1,101)\n",
    "pred_index= np.arange(101,131)\n",
    "\n",
    "predictions= np.array(predictions).reshape(-1,1)"
   ]
  },
  {
   "cell_type": "code",
   "execution_count": 39,
   "metadata": {},
   "outputs": [
    {
     "data": {
      "text/plain": [
       "[<matplotlib.lines.Line2D at 0x1f6fe533760>]"
      ]
     },
     "execution_count": 39,
     "metadata": {},
     "output_type": "execute_result"
    },
    {
     "data": {
      "image/png": "[encoded data removed]",
      "text/plain": [
       "<Figure size 432x288 with 1 Axes>"
      ]
     },
     "metadata": {
      "needs_background": "light"
     },
     "output_type": "display_data"
    }
   ],
   "source": [
    "inv_data= scaler.inverse_transform(df1[1157:])\n",
    "pred_data= scaler.inverse_transform(predictions)\n",
    "plt.plot(data_index, inv_data)\n",
    "plt.plot(pred_index, pred_data)"
   ]
  },
  {
   "cell_type": "code",
   "execution_count": 40,
   "metadata": {},
   "outputs": [
    {
     "data": {
      "text/plain": [
       "[<matplotlib.lines.Line2D at 0x1f6fd229400>]"
      ]
     },
     "execution_count": 40,
     "metadata": {},
     "output_type": "execute_result"
    },
    {
     "data": {
      "image/png": "[encoded data removed]",
      "text/plain": [
       "<Figure size 432x288 with 1 Axes>"
      ]
     },
     "metadata": {
      "needs_background": "light"
     },
     "output_type": "display_data"
    }
   ],
   "source": [
    "dt= inv_data.reshape(-1,).tolist()\n",
    "dt.extend(pred_data.reshape(-1).tolist())\n",
    "\n",
    "df4= pd.DataFrame()\n",
    "df4['Stock Price']= dt\n",
    "df4.index= df4.index + 1\n",
    "df4.index.set_names('Days', inplace= True)\n",
    "\n",
    "plt.plot(dt)"
   ]
  },
  {
   "cell_type": "code",
   "execution_count": 41,
   "metadata": {},
   "outputs": [
    {
     "name": "stdout",
     "output_type": "stream",
     "text": [
      "Prediction of Apple stock for next 30 days : \n"
     ]
    },
    {
     "data": {
      "text/html": [
       "<div>\n",
       "<style scoped>\n",
       "    .dataframe tbody tr th:only-of-type {\n",
       "        vertical-align: middle;\n",
       "    }\n",
       "\n",
       "    .dataframe tbody tr th {\n",
       "        vertical-align: top;\n",
       "    }\n",
       "\n",
       "    .dataframe thead th {\n",
       "        text-align: right;\n",
       "    }\n",
       "</style>\n",
       "<table border=\"1\" class=\"dataframe\">\n",
       "  <thead>\n",
       "    <tr style=\"text-align: right;\">\n",
       "      <th></th>\n",
       "      <th>Predicted Stock Price</th>\n",
       "    </tr>\n",
       "    <tr>\n",
       "      <th>Day</th>\n",
       "      <th></th>\n",
       "    </tr>\n",
       "  </thead>\n",
       "  <tbody>\n",
       "    <tr>\n",
       "      <th>1</th>\n",
       "      <td>427.817528</td>\n",
       "    </tr>\n",
       "    <tr>\n",
       "      <th>2</th>\n",
       "      <td>424.964509</td>\n",
       "    </tr>\n",
       "    <tr>\n",
       "      <th>3</th>\n",
       "      <td>418.798869</td>\n",
       "    </tr>\n",
       "    <tr>\n",
       "      <th>4</th>\n",
       "      <td>411.108464</td>\n",
       "    </tr>\n",
       "    <tr>\n",
       "      <th>5</th>\n",
       "      <td>403.022618</td>\n",
       "    </tr>\n",
       "    <tr>\n",
       "      <th>6</th>\n",
       "      <td>395.126817</td>\n",
       "    </tr>\n",
       "    <tr>\n",
       "      <th>7</th>\n",
       "      <td>387.687680</td>\n",
       "    </tr>\n",
       "    <tr>\n",
       "      <th>8</th>\n",
       "      <td>380.816417</td>\n",
       "    </tr>\n",
       "    <tr>\n",
       "      <th>9</th>\n",
       "      <td>374.556679</td>\n",
       "    </tr>\n",
       "    <tr>\n",
       "      <th>10</th>\n",
       "      <td>368.922249</td>\n",
       "    </tr>\n",
       "    <tr>\n",
       "      <th>11</th>\n",
       "      <td>363.908250</td>\n",
       "    </tr>\n",
       "    <tr>\n",
       "      <th>12</th>\n",
       "      <td>359.494259</td>\n",
       "    </tr>\n",
       "    <tr>\n",
       "      <th>13</th>\n",
       "      <td>355.645290</td>\n",
       "    </tr>\n",
       "    <tr>\n",
       "      <th>14</th>\n",
       "      <td>352.313836</td>\n",
       "    </tr>\n",
       "    <tr>\n",
       "      <th>15</th>\n",
       "      <td>349.442943</td>\n",
       "    </tr>\n",
       "    <tr>\n",
       "      <th>16</th>\n",
       "      <td>346.970364</td>\n",
       "    </tr>\n",
       "    <tr>\n",
       "      <th>17</th>\n",
       "      <td>344.831373</td>\n",
       "    </tr>\n",
       "    <tr>\n",
       "      <th>18</th>\n",
       "      <td>342.962417</td>\n",
       "    </tr>\n",
       "    <tr>\n",
       "      <th>19</th>\n",
       "      <td>341.303451</td>\n",
       "    </tr>\n",
       "    <tr>\n",
       "      <th>20</th>\n",
       "      <td>339.799847</td>\n",
       "    </tr>\n",
       "    <tr>\n",
       "      <th>21</th>\n",
       "      <td>338.403231</td>\n",
       "    </tr>\n",
       "    <tr>\n",
       "      <th>22</th>\n",
       "      <td>337.072626</td>\n",
       "    </tr>\n",
       "    <tr>\n",
       "      <th>23</th>\n",
       "      <td>335.774244</td>\n",
       "    </tr>\n",
       "    <tr>\n",
       "      <th>24</th>\n",
       "      <td>334.481631</td>\n",
       "    </tr>\n",
       "    <tr>\n",
       "      <th>25</th>\n",
       "      <td>333.175367</td>\n",
       "    </tr>\n",
       "    <tr>\n",
       "      <th>26</th>\n",
       "      <td>331.842172</td>\n",
       "    </tr>\n",
       "    <tr>\n",
       "      <th>27</th>\n",
       "      <td>330.474207</td>\n",
       "    </tr>\n",
       "    <tr>\n",
       "      <th>28</th>\n",
       "      <td>329.068446</td>\n",
       "    </tr>\n",
       "    <tr>\n",
       "      <th>29</th>\n",
       "      <td>327.625782</td>\n",
       "    </tr>\n",
       "    <tr>\n",
       "      <th>30</th>\n",
       "      <td>326.149763</td>\n",
       "    </tr>\n",
       "  </tbody>\n",
       "</table>\n",
       "</div>"
      ],
      "text/plain": [
       "     Predicted Stock Price\n",
       "Day                       \n",
       "1               427.817528\n",
       "2               424.964509\n",
       "3               418.798869\n",
       "4               411.108464\n",
       "5               403.022618\n",
       "6               395.126817\n",
       "7               387.687680\n",
       "8               380.816417\n",
       "9               374.556679\n",
       "10              368.922249\n",
       "11              363.908250\n",
       "12              359.494259\n",
       "13              355.645290\n",
       "14              352.313836\n",
       "15              349.442943\n",
       "16              346.970364\n",
       "17              344.831373\n",
       "18              342.962417\n",
       "19              341.303451\n",
       "20              339.799847\n",
       "21              338.403231\n",
       "22              337.072626\n",
       "23              335.774244\n",
       "24              334.481631\n",
       "25              333.175367\n",
       "26              331.842172\n",
       "27              330.474207\n",
       "28              329.068446\n",
       "29              327.625782\n",
       "30              326.149763"
      ]
     },
     "execution_count": 41,
     "metadata": {},
     "output_type": "execute_result"
    }
   ],
   "source": [
    "\n",
    "print('Prediction of Apple stock for next 30 days : ')\n",
    "df3= pd.DataFrame()\n",
    "df3['Day']= np.arange(1,31)\n",
    "df3['Predicted Stock Price']= pred_data.reshape(-1,)\n",
    "df3.set_index('Day', inplace=True)\n",
    "df3"
   ]
  },
  {
   "cell_type": "code",
   "execution_count": 42,
   "metadata": {},
   "outputs": [
    {
     "name": "stdout",
     "output_type": "stream",
     "text": [
      "[244.78000000000003, 229.24, 224.37, 246.88, 245.52, 258.44, 247.74, 254.81, 254.29, 240.91, 244.93, 241.40999999999997, 262.47, 259.43, 266.07, 267.99, 273.25, 287.05, 284.43, 286.69, 282.8, 276.93, 268.37, 276.1, 275.03, 282.97, 283.17, 278.58, 287.73, 293.8, 289.07, 293.16, 297.56, 300.63, 303.74, 310.13, 315.01, 311.41, 307.65, 309.54, 307.71, 314.96, 313.14, 319.23, 316.85, 318.89, 316.73, 318.11, 318.25, 317.94, 321.85, 323.34, 325.12, 322.32, 331.5, 333.46, 343.99, 352.84, 335.9, 338.8, 342.99, 352.08, 351.59, 351.73, 349.72, 358.87, 366.53000000000003, 360.06, 364.84, 353.63, 361.78, 364.8, 364.11, 364.11, 373.84999999999997, 372.69, 381.36999999999995, 383.00999999999993, 383.68, 381.91, 388.2300000000001, 390.8999999999999, 386.09000000000003, 385.31, 393.43, 388.0, 389.09, 371.38, 370.46, 379.24, 373.01000000000005, 380.16, 384.76, 425.04, 435.75, 438.65999999999997, 440.25, 455.60999999999996, 444.45, 450.90999999999997, 427.8175280714035, 424.9645093500614, 418.7988694500923, 411.1084641075134, 403.02261776864526, 395.1268173724413, 387.6876802420616, 380.8164166736603, 374.55667910337445, 368.9222490733862, 363.90824970304965, 359.4942590546608, 355.645289863944, 352.31383608818055, 349.4429427284002, 346.97036424100395, 344.83137309849263, 342.96241744995115, 341.3034507024288, 339.7998474383354, 338.4032307434082, 337.0726261115074, 335.77424372673033, 334.4816308659315, 333.17536709368227, 331.84217161893844, 330.474206597805, 329.068445751667, 327.6257817238569, 326.14976331591606]\n"
     ]
    }
   ],
   "source": [
    "print(dt)"
   ]
  },
  {
   "cell_type": "code",
   "execution_count": null,
   "metadata": {},
   "outputs": [],
   "source": []
  }
 ],
 "metadata": {
  "kernelspec": {
   "display_name": "Python 3",
   "language": "python",
   "name": "python3"
  },
  "language_info": {
   "codemirror_mode": {
    "name": "ipython",
    "version": 3
   },
   "file_extension": ".py",
   "mimetype": "text/x-python",
   "name": "python",
   "nbconvert_exporter": "python",
   "pygments_lexer": "ipython3",
   "version": "3.8.3"
  }
 },
 "nbformat": 4,
 "nbformat_minor": 2
}
